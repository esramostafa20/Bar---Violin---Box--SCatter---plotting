{
  "nbformat": 4,
  "nbformat_minor": 0,
  "metadata": {
    "colab": {
      "provenance": [],
      "collapsed_sections": []
    },
    "kernelspec": {
      "name": "python3",
      "display_name": "Python 3"
    }
  },
  "cells": [
    {
      "cell_type": "code",
      "metadata": {
        "colab": {
          "base_uri": "https://localhost:8080/"
        },
        "id": "1X6OqEwuoJDm",
        "outputId": "dd699f08-07e0-43d1-dfa3-ff0702facad5"
      },
      "source": [
        "from google.colab import drive\n",
        "drive.mount('/content/drive')"
      ],
      "execution_count": null,
      "outputs": [
        {
          "output_type": "stream",
          "text": [
            "Mounted at /content/drive\n"
          ],
          "name": "stdout"
        }
      ]
    },
    {
      "cell_type": "code",
      "metadata": {
        "id": "Zkr7BwreoWVA"
      },
      "source": [
        "# importing Necessary libraries\n",
        "import pandas as pd\n",
        "import numpy as np\n",
        "import matplotlib.pyplot as plt\n",
        "import seaborn as sns\n",
        "\n",
        "%matplotlib inline"
      ],
      "execution_count": null,
      "outputs": []
    },
    {
      "cell_type": "markdown",
      "metadata": {
        "id": "z_FUQAKUpH16"
      },
      "source": [
        "# 1. Create a vertical bar chart using Seaborn, with default colors\n",
        "###         In this Example, I'm playing with pokemon\n"
      ]
    },
    {
      "cell_type": "code",
      "metadata": {
        "colab": {
          "base_uri": "https://localhost:8080/",
          "height": 204
        },
        "id": "ojCSYIU-pDif",
        "outputId": "bd136026-a382-44b6-dd27-d7a6a6f0ceac"
      },
      "source": [
        "data=pd.read_csv('/content/drive/MyDrive/Data Folder /pokemon.csv')\n",
        "data.head(5)"
      ],
      "execution_count": null,
      "outputs": [
        {
          "output_type": "execute_result",
          "data": {
            "text/html": [
              "<div>\n",
              "<style scoped>\n",
              "    .dataframe tbody tr th:only-of-type {\n",
              "        vertical-align: middle;\n",
              "    }\n",
              "\n",
              "    .dataframe tbody tr th {\n",
              "        vertical-align: top;\n",
              "    }\n",
              "\n",
              "    .dataframe thead th {\n",
              "        text-align: right;\n",
              "    }\n",
              "</style>\n",
              "<table border=\"1\" class=\"dataframe\">\n",
              "  <thead>\n",
              "    <tr style=\"text-align: right;\">\n",
              "      <th></th>\n",
              "      <th>id</th>\n",
              "      <th>species</th>\n",
              "      <th>generation_id</th>\n",
              "      <th>height</th>\n",
              "      <th>weight</th>\n",
              "      <th>base_experience</th>\n",
              "      <th>type_1</th>\n",
              "      <th>type_2</th>\n",
              "      <th>hp</th>\n",
              "      <th>attack</th>\n",
              "      <th>defense</th>\n",
              "      <th>speed</th>\n",
              "      <th>special-attack</th>\n",
              "      <th>special-defense</th>\n",
              "    </tr>\n",
              "  </thead>\n",
              "  <tbody>\n",
              "    <tr>\n",
              "      <th>0</th>\n",
              "      <td>1</td>\n",
              "      <td>bulbasaur</td>\n",
              "      <td>1</td>\n",
              "      <td>0.7</td>\n",
              "      <td>6.9</td>\n",
              "      <td>64</td>\n",
              "      <td>grass</td>\n",
              "      <td>poison</td>\n",
              "      <td>45</td>\n",
              "      <td>49</td>\n",
              "      <td>49</td>\n",
              "      <td>45</td>\n",
              "      <td>65</td>\n",
              "      <td>65</td>\n",
              "    </tr>\n",
              "    <tr>\n",
              "      <th>1</th>\n",
              "      <td>2</td>\n",
              "      <td>ivysaur</td>\n",
              "      <td>1</td>\n",
              "      <td>1.0</td>\n",
              "      <td>13.0</td>\n",
              "      <td>142</td>\n",
              "      <td>grass</td>\n",
              "      <td>poison</td>\n",
              "      <td>60</td>\n",
              "      <td>62</td>\n",
              "      <td>63</td>\n",
              "      <td>60</td>\n",
              "      <td>80</td>\n",
              "      <td>80</td>\n",
              "    </tr>\n",
              "    <tr>\n",
              "      <th>2</th>\n",
              "      <td>3</td>\n",
              "      <td>venusaur</td>\n",
              "      <td>1</td>\n",
              "      <td>2.0</td>\n",
              "      <td>100.0</td>\n",
              "      <td>236</td>\n",
              "      <td>grass</td>\n",
              "      <td>poison</td>\n",
              "      <td>80</td>\n",
              "      <td>82</td>\n",
              "      <td>83</td>\n",
              "      <td>80</td>\n",
              "      <td>100</td>\n",
              "      <td>100</td>\n",
              "    </tr>\n",
              "    <tr>\n",
              "      <th>3</th>\n",
              "      <td>4</td>\n",
              "      <td>charmander</td>\n",
              "      <td>1</td>\n",
              "      <td>0.6</td>\n",
              "      <td>8.5</td>\n",
              "      <td>62</td>\n",
              "      <td>fire</td>\n",
              "      <td>NaN</td>\n",
              "      <td>39</td>\n",
              "      <td>52</td>\n",
              "      <td>43</td>\n",
              "      <td>65</td>\n",
              "      <td>60</td>\n",
              "      <td>50</td>\n",
              "    </tr>\n",
              "    <tr>\n",
              "      <th>4</th>\n",
              "      <td>5</td>\n",
              "      <td>charmeleon</td>\n",
              "      <td>1</td>\n",
              "      <td>1.1</td>\n",
              "      <td>19.0</td>\n",
              "      <td>142</td>\n",
              "      <td>fire</td>\n",
              "      <td>NaN</td>\n",
              "      <td>58</td>\n",
              "      <td>64</td>\n",
              "      <td>58</td>\n",
              "      <td>80</td>\n",
              "      <td>80</td>\n",
              "      <td>65</td>\n",
              "    </tr>\n",
              "  </tbody>\n",
              "</table>\n",
              "</div>"
            ],
            "text/plain": [
              "   id     species  generation_id  ...  speed  special-attack  special-defense\n",
              "0   1   bulbasaur              1  ...     45              65               65\n",
              "1   2     ivysaur              1  ...     60              80               80\n",
              "2   3    venusaur              1  ...     80             100              100\n",
              "3   4  charmander              1  ...     65              60               50\n",
              "4   5  charmeleon              1  ...     80              80               65\n",
              "\n",
              "[5 rows x 14 columns]"
            ]
          },
          "metadata": {
            "tags": []
          },
          "execution_count": 5
        }
      ]
    },
    {
      "cell_type": "code",
      "metadata": {
        "colab": {
          "base_uri": "https://localhost:8080/"
        },
        "id": "GDGeVf0tpVch",
        "outputId": "b8f93f0d-9103-4b51-e6bd-434753f8694d"
      },
      "source": [
        "data.shape"
      ],
      "execution_count": null,
      "outputs": [
        {
          "output_type": "execute_result",
          "data": {
            "text/plain": [
              "(807, 14)"
            ]
          },
          "metadata": {
            "tags": []
          },
          "execution_count": 6
        }
      ]
    },
    {
      "cell_type": "code",
      "metadata": {
        "colab": {
          "base_uri": "https://localhost:8080/",
          "height": 280
        },
        "id": "a4kwfo-fpxNj",
        "outputId": "33c8c9cd-fe40-4f3b-a340-e1d1bb067fb7"
      },
      "source": [
        "sns.countplot(data=data,x='generation_id');"
      ],
      "execution_count": null,
      "outputs": [
        {
          "output_type": "display_data",
          "data": {
            "image/png": "[encoded data removed]",
            "text/plain": [
              "<Figure size 432x288 with 1 Axes>"
            ]
          },
          "metadata": {
            "tags": [],
            "needs_background": "light"
          }
        }
      ]
    },
    {
      "cell_type": "markdown",
      "metadata": {
        "id": "fT3Q1ZmXrxlv"
      },
      "source": [
        "###  in the above example :\n",
        "1. all the columns with different colors, which is poor design and nosiy\n",
        "2. it's a good idea to simplify the plot and reduce unnecessary distractions by plotting all bars in the same color  \n"
      ]
    },
    {
      "cell_type": "markdown",
      "metadata": {
        "id": "7lq-aW5FscH0"
      },
      "source": [
        "# 2. Create a vertical bar chart using Seaborn, with a uniform single color"
      ]
    },
    {
      "cell_type": "code",
      "metadata": {
        "colab": {
          "base_uri": "https://localhost:8080/",
          "height": 280
        },
        "id": "XGroSVujqAHq",
        "outputId": "ddcacced-67d3-4919-c1d7-29aa70df3a61"
      },
      "source": [
        "base_color=sns.color_palette()[9]\n",
        "sns.countplot(data=data ,x='generation_id' , color=base_color);"
      ],
      "execution_count": null,
      "outputs": [
        {
          "output_type": "display_data",
          "data": {
            "image/png": "[encoded data removed]",
            "text/plain": [
              "<Figure size 432x288 with 1 Axes>"
            ]
          },
          "metadata": {
            "tags": [],
            "needs_background": "light"
          }
        }
      ]
    },
    {
      "cell_type": "code",
      "metadata": {
        "colab": {
          "base_uri": "https://localhost:8080/",
          "height": 76
        },
        "id": "3ixDh0z2tSuQ",
        "outputId": "88719244-7e0a-4411-c3f2-4a66ccdb5df0"
      },
      "source": [
        "sns.color_palette()"
      ],
      "execution_count": null,
      "outputs": [
        {
          "output_type": "execute_result",
          "data": {
            "text/html": [
              "<svg  width=\"550\" height=\"55\"><rect x=\"0\" y=\"0\" width=\"55\" height=\"55\" style=\"fill:#1f77b4;stroke-width:2;stroke:rgb(255,255,255)\"/><rect x=\"55\" y=\"0\" width=\"55\" height=\"55\" style=\"fill:#ff7f0e;stroke-width:2;stroke:rgb(255,255,255)\"/><rect x=\"110\" y=\"0\" width=\"55\" height=\"55\" style=\"fill:#2ca02c;stroke-width:2;stroke:rgb(255,255,255)\"/><rect x=\"165\" y=\"0\" width=\"55\" height=\"55\" style=\"fill:#d62728;stroke-width:2;stroke:rgb(255,255,255)\"/><rect x=\"220\" y=\"0\" width=\"55\" height=\"55\" style=\"fill:#9467bd;stroke-width:2;stroke:rgb(255,255,255)\"/><rect x=\"275\" y=\"0\" width=\"55\" height=\"55\" style=\"fill:#8c564b;stroke-width:2;stroke:rgb(255,255,255)\"/><rect x=\"330\" y=\"0\" width=\"55\" height=\"55\" style=\"fill:#e377c2;stroke-width:2;stroke:rgb(255,255,255)\"/><rect x=\"385\" y=\"0\" width=\"55\" height=\"55\" style=\"fill:#7f7f7f;stroke-width:2;stroke:rgb(255,255,255)\"/><rect x=\"440\" y=\"0\" width=\"55\" height=\"55\" style=\"fill:#bcbd22;stroke-width:2;stroke:rgb(255,255,255)\"/><rect x=\"495\" y=\"0\" width=\"55\" height=\"55\" style=\"fill:#17becf;stroke-width:2;stroke:rgb(255,255,255)\"/></svg>"
            ],
            "text/plain": [
              "[(0.12156862745098039, 0.4666666666666667, 0.7058823529411765),\n",
              " (1.0, 0.4980392156862745, 0.054901960784313725),\n",
              " (0.17254901960784313, 0.6274509803921569, 0.17254901960784313),\n",
              " (0.8392156862745098, 0.15294117647058825, 0.1568627450980392),\n",
              " (0.5803921568627451, 0.403921568627451, 0.7411764705882353),\n",
              " (0.5490196078431373, 0.33725490196078434, 0.29411764705882354),\n",
              " (0.8901960784313725, 0.4666666666666667, 0.7607843137254902),\n",
              " (0.4980392156862745, 0.4980392156862745, 0.4980392156862745),\n",
              " (0.7372549019607844, 0.7411764705882353, 0.13333333333333333),\n",
              " (0.09019607843137255, 0.7450980392156863, 0.8117647058823529)]"
            ]
          },
          "metadata": {
            "tags": []
          },
          "execution_count": 19
        }
      ]
    },
    {
      "cell_type": "markdown",
      "metadata": {
        "id": "b3mFoWxRt_-t"
      },
      "source": [
        "# 3. Create a vertical bar chart using Matplotlib, with a uniform single color\n"
      ]
    },
    {
      "cell_type": "code",
      "metadata": {
        "colab": {
          "base_uri": "https://localhost:8080/",
          "height": 280
        },
        "id": "ALWBWjs9tnjR",
        "outputId": "dc50fa7c-ef66-4562-a4af-a1bb86ec0970"
      },
      "source": [
        "# i want to have the unique values in the selected column \n",
        "x=data['generation_id'].unique()\n",
        "# i want to know the frequency of each unique value(categorical value)\n",
        "y=data['generation_id'].value_counts()  # this is wrong code \n",
        "plt.bar(x, y);   \n",
        "# Labeling the axes\n",
        "plt.xlabel('generation_id')\n",
        "plt.ylabel('count')\n",
        "\n",
        "# Dsiplay the plot\n",
        "plt.show()"
      ],
      "execution_count": null,
      "outputs": [
        {
          "output_type": "display_data",
          "data": {
            "image/png": "[encoded data removed]",
            "text/plain": [
              "<Figure size 432x288 with 1 Axes>"
            ]
          },
          "metadata": {
            "tags": [],
            "needs_background": "light"
          }
        }
      ]
    },
    {
      "cell_type": "code",
      "metadata": {
        "colab": {
          "base_uri": "https://localhost:8080/",
          "height": 265
        },
        "id": "SI_FcympxbHD",
        "outputId": "fd95d1f2-a321-4e00-dd07-63ff289f781b"
      },
      "source": [
        "plt.bar(x,w);"
      ],
      "execution_count": null,
      "outputs": [
        {
          "output_type": "display_data",
          "data": {
            "image/png": "[encoded data removed]",
            "text/plain": [
              "<Figure size 432x288 with 1 Axes>"
            ]
          },
          "metadata": {
            "tags": [],
            "needs_background": "light"
          }
        }
      ]
    },
    {
      "cell_type": "code",
      "metadata": {
        "id": "XuXI03nWvQ38"
      },
      "source": [
        "# Know the differences between count in different formats\n",
        "z=data['generation_id'].count()\n",
        "w=data['generation_id'].value_counts(sort=False)\n",
        "y=data['generation_id'].value_counts()\n",
        "# _______________________________________________\n",
        "x=data['generation_id'].unique()"
      ],
      "execution_count": null,
      "outputs": []
    },
    {
      "cell_type": "code",
      "metadata": {
        "colab": {
          "base_uri": "https://localhost:8080/"
        },
        "id": "fqPk5JGsvZ5F",
        "outputId": "6967b32e-2e71-4f79-8f4f-1aab6d2dbec3"
      },
      "source": [
        "z"
      ],
      "execution_count": null,
      "outputs": [
        {
          "output_type": "execute_result",
          "data": {
            "text/plain": [
              "807"
            ]
          },
          "metadata": {
            "tags": []
          },
          "execution_count": 32
        }
      ]
    },
    {
      "cell_type": "code",
      "metadata": {
        "colab": {
          "base_uri": "https://localhost:8080/"
        },
        "id": "wMDVVzSpvou-",
        "outputId": "244f263b-bed2-401b-b527-a6e478c1ba0f"
      },
      "source": [
        "w"
      ],
      "execution_count": null,
      "outputs": [
        {
          "output_type": "execute_result",
          "data": {
            "text/plain": [
              "1    151\n",
              "2    100\n",
              "3    135\n",
              "4    107\n",
              "5    156\n",
              "6     72\n",
              "7     86\n",
              "Name: generation_id, dtype: int64"
            ]
          },
          "metadata": {
            "tags": []
          },
          "execution_count": 33
        }
      ]
    },
    {
      "cell_type": "code",
      "metadata": {
        "colab": {
          "base_uri": "https://localhost:8080/"
        },
        "id": "2ZdEHForvph_",
        "outputId": "7062c5f0-b3e1-419a-9b91-03189ed5ee80"
      },
      "source": [
        "y"
      ],
      "execution_count": null,
      "outputs": [
        {
          "output_type": "execute_result",
          "data": {
            "text/plain": [
              "807"
            ]
          },
          "metadata": {
            "tags": []
          },
          "execution_count": 36
        }
      ]
    },
    {
      "cell_type": "code",
      "metadata": {
        "colab": {
          "base_uri": "https://localhost:8080/"
        },
        "id": "b9b_NtJbwrZp",
        "outputId": "7a1f55ef-0977-4f6d-a3eb-dd4f62483ffb"
      },
      "source": [
        "x"
      ],
      "execution_count": null,
      "outputs": [
        {
          "output_type": "execute_result",
          "data": {
            "text/plain": [
              "array([1, 2, 3, 4, 5, 6, 7])"
            ]
          },
          "metadata": {
            "tags": []
          },
          "execution_count": 37
        }
      ]
    },
    {
      "cell_type": "markdown",
      "metadata": {
        "id": "iTevgknCySKe"
      },
      "source": [
        "# 4. Static and dynamic ordering of the bars in a bar chart using seaborn.countplot()\n"
      ]
    },
    {
      "cell_type": "code",
      "metadata": {
        "id": "RGAUdYs5yU9E"
      },
      "source": [
        "freq=data['generation_id'].value_counts().index"
      ],
      "execution_count": null,
      "outputs": []
    },
    {
      "cell_type": "code",
      "metadata": {
        "colab": {
          "base_uri": "https://localhost:8080/",
          "height": 280
        },
        "id": "gxfZDMRYyygV",
        "outputId": "53131b19-69fd-4934-d394-e7576185de96"
      },
      "source": [
        "sns.countplot(data=data ,x='generation_id' ,color=base_color ,order = freq);"
      ],
      "execution_count": null,
      "outputs": [
        {
          "output_type": "display_data",
          "data": {
            "image/png": "[encoded data removed]",
            "text/plain": [
              "<Figure size 432x288 with 1 Axes>"
            ]
          },
          "metadata": {
            "tags": [],
            "needs_background": "light"
          }
        }
      ]
    },
    {
      "cell_type": "markdown",
      "metadata": {
        "id": "nQJ03N6RzdK4"
      },
      "source": [
        "# 5. Rotate the category labels (not axes)"
      ]
    },
    {
      "cell_type": "code",
      "metadata": {
        "colab": {
          "base_uri": "https://localhost:8080/",
          "height": 309
        },
        "id": "XNdRVQ1dzd9b",
        "outputId": "78fc49d3-e437-43f3-99a3-9061769067cb"
      },
      "source": [
        "# Plot the Pokemon type on a Vertical bar chart\n",
        "sns.countplot(data=data , x='type_1', color=base_color);\n",
        "# Use xticks to rotate the category labels (not axes) counter-clockwise\n",
        "plt.xticks(rotation=90);"
      ],
      "execution_count": null,
      "outputs": [
        {
          "output_type": "display_data",
          "data": {
            "image/png": "[encoded data removed]",
            "text/plain": [
              "<Figure size 432x288 with 1 Axes>"
            ]
          },
          "metadata": {
            "tags": [],
            "needs_background": "light"
          }
        }
      ]
    },
    {
      "cell_type": "markdown",
      "metadata": {
        "id": "FOFJ_L5yz1MH"
      },
      "source": [
        "# 6. Rotate the axes clockwise"
      ]
    },
    {
      "cell_type": "code",
      "metadata": {
        "colab": {
          "base_uri": "https://localhost:8080/",
          "height": 279
        },
        "id": "gFmA1VTTz2aV",
        "outputId": "58b302a1-c8ee-4c11-d2dd-f275a364b183"
      },
      "source": [
        "# Plot the Pokemon type on a Horizontal bar chart\n",
        "type_order = data['type_1'].value_counts().index\n",
        "sns.countplot(data=data , y='type_1', color=base_color, order=type_order);"
      ],
      "execution_count": null,
      "outputs": [
        {
          "output_type": "display_data",
          "data": {
            "image/png": "[encoded data removed]",
            "text/plain": [
              "<Figure size 432x288 with 1 Axes>"
            ]
          },
          "metadata": {
            "tags": [],
            "needs_background": "light"
          }
        }
      ]
    },
    {
      "cell_type": "markdown",
      "metadata": {
        "id": "v2lvITvY0qL_"
      },
      "source": [
        "# 7. Data wrangling to reshape the pokemon dataframe :\n",
        "### 1. Select the 'id', and 'species' columns from pokemon.\n",
        "### 2. Remove the 'type_1', 'type_2' columns from pokemon\n",
        "### 3. Add a new column 'type_level' that can have a value either 'type_1' or 'type_2'\n",
        "### 4. Add another column 'type' that will contain the actual value contained in the 'type_1', 'type_2' columns. For example, the first row in the pokemon dataframe having id=1 and species=bulbasaur will now occur twice in the resulting dataframe after the melt() operation. The first occurrence will have type=grass, whereas, the second occurrence will have type=poison\n"
      ]
    },
    {
      "cell_type": "code",
      "metadata": {
        "colab": {
          "base_uri": "https://localhost:8080/",
          "height": 359
        },
        "id": "qt3jXs3D0sy2",
        "outputId": "907e4ead-faf9-437f-fbfd-96f54fccbc0c"
      },
      "source": [
        "pkmn_types=data.melt(id_vars=['id', 'species'], value_vars=['type_1', 'type_2'],var_name='type_level', value_name='type')\n",
        "pkmn_types.head(10)"
      ],
      "execution_count": null,
      "outputs": [
        {
          "output_type": "execute_result",
          "data": {
            "text/html": [
              "<div>\n",
              "<style scoped>\n",
              "    .dataframe tbody tr th:only-of-type {\n",
              "        vertical-align: middle;\n",
              "    }\n",
              "\n",
              "    .dataframe tbody tr th {\n",
              "        vertical-align: top;\n",
              "    }\n",
              "\n",
              "    .dataframe thead th {\n",
              "        text-align: right;\n",
              "    }\n",
              "</style>\n",
              "<table border=\"1\" class=\"dataframe\">\n",
              "  <thead>\n",
              "    <tr style=\"text-align: right;\">\n",
              "      <th></th>\n",
              "      <th>id</th>\n",
              "      <th>species</th>\n",
              "      <th>type_level</th>\n",
              "      <th>type</th>\n",
              "    </tr>\n",
              "  </thead>\n",
              "  <tbody>\n",
              "    <tr>\n",
              "      <th>0</th>\n",
              "      <td>1</td>\n",
              "      <td>bulbasaur</td>\n",
              "      <td>type_1</td>\n",
              "      <td>grass</td>\n",
              "    </tr>\n",
              "    <tr>\n",
              "      <th>1</th>\n",
              "      <td>2</td>\n",
              "      <td>ivysaur</td>\n",
              "      <td>type_1</td>\n",
              "      <td>grass</td>\n",
              "    </tr>\n",
              "    <tr>\n",
              "      <th>2</th>\n",
              "      <td>3</td>\n",
              "      <td>venusaur</td>\n",
              "      <td>type_1</td>\n",
              "      <td>grass</td>\n",
              "    </tr>\n",
              "    <tr>\n",
              "      <th>3</th>\n",
              "      <td>4</td>\n",
              "      <td>charmander</td>\n",
              "      <td>type_1</td>\n",
              "      <td>fire</td>\n",
              "    </tr>\n",
              "    <tr>\n",
              "      <th>4</th>\n",
              "      <td>5</td>\n",
              "      <td>charmeleon</td>\n",
              "      <td>type_1</td>\n",
              "      <td>fire</td>\n",
              "    </tr>\n",
              "    <tr>\n",
              "      <th>5</th>\n",
              "      <td>6</td>\n",
              "      <td>charizard</td>\n",
              "      <td>type_1</td>\n",
              "      <td>fire</td>\n",
              "    </tr>\n",
              "    <tr>\n",
              "      <th>6</th>\n",
              "      <td>7</td>\n",
              "      <td>squirtle</td>\n",
              "      <td>type_1</td>\n",
              "      <td>water</td>\n",
              "    </tr>\n",
              "    <tr>\n",
              "      <th>7</th>\n",
              "      <td>8</td>\n",
              "      <td>wartortle</td>\n",
              "      <td>type_1</td>\n",
              "      <td>water</td>\n",
              "    </tr>\n",
              "    <tr>\n",
              "      <th>8</th>\n",
              "      <td>9</td>\n",
              "      <td>blastoise</td>\n",
              "      <td>type_1</td>\n",
              "      <td>water</td>\n",
              "    </tr>\n",
              "    <tr>\n",
              "      <th>9</th>\n",
              "      <td>10</td>\n",
              "      <td>caterpie</td>\n",
              "      <td>type_1</td>\n",
              "      <td>bug</td>\n",
              "    </tr>\n",
              "  </tbody>\n",
              "</table>\n",
              "</div>"
            ],
            "text/plain": [
              "   id     species type_level   type\n",
              "0   1   bulbasaur     type_1  grass\n",
              "1   2     ivysaur     type_1  grass\n",
              "2   3    venusaur     type_1  grass\n",
              "3   4  charmander     type_1   fire\n",
              "4   5  charmeleon     type_1   fire\n",
              "5   6   charizard     type_1   fire\n",
              "6   7    squirtle     type_1  water\n",
              "7   8   wartortle     type_1  water\n",
              "8   9   blastoise     type_1  water\n",
              "9  10    caterpie     type_1    bug"
            ]
          },
          "metadata": {
            "tags": []
          },
          "execution_count": 57
        }
      ]
    },
    {
      "cell_type": "code",
      "metadata": {
        "colab": {
          "base_uri": "https://localhost:8080/"
        },
        "id": "d7CROYLX6cqc",
        "outputId": "dead7ae8-515d-42f5-bb21-161f0f3e296b"
      },
      "source": [
        "# Count the frequency of unique values in the `type` column of pkmn_types dataframe. \n",
        "# By default, returns the decreasing order of the frequency.\n",
        "type_count=pkmn_types['type'].value_counts()\n",
        "type_count"
      ],
      "execution_count": null,
      "outputs": [
        {
          "output_type": "execute_result",
          "data": {
            "text/plain": [
              "water       131\n",
              "normal      109\n",
              "flying       98\n",
              "grass        97\n",
              "psychic      82\n",
              "bug          77\n",
              "poison       66\n",
              "ground       64\n",
              "fire         64\n",
              "rock         60\n",
              "fighting     54\n",
              "electric     48\n",
              "fairy        47\n",
              "steel        47\n",
              "dark         46\n",
              "dragon       45\n",
              "ghost        43\n",
              "ice          34\n",
              "Name: type, dtype: int64"
            ]
          },
          "metadata": {
            "tags": []
          },
          "execution_count": 59
        }
      ]
    },
    {
      "cell_type": "code",
      "metadata": {
        "colab": {
          "base_uri": "https://localhost:8080/"
        },
        "id": "Mk-H945L7wOa",
        "outputId": "bca791e8-a6b6-429c-9970-43af08e6ff1e"
      },
      "source": [
        "# Get the unique values of the `type` column, in the decreasing order of the frequency.\n",
        "type_order = type_count.index\n",
        "type_order"
      ],
      "execution_count": null,
      "outputs": [
        {
          "output_type": "execute_result",
          "data": {
            "text/plain": [
              "Index(['water', 'normal', 'flying', 'grass', 'psychic', 'bug', 'poison',\n",
              "       'ground', 'fire', 'rock', 'fighting', 'electric', 'fairy', 'steel',\n",
              "       'dark', 'dragon', 'ghost', 'ice'],\n",
              "      dtype='object')"
            ]
          },
          "metadata": {
            "tags": []
          },
          "execution_count": 64
        }
      ]
    },
    {
      "cell_type": "code",
      "metadata": {
        "colab": {
          "base_uri": "https://localhost:8080/",
          "height": 296
        },
        "id": "utZgueKw6icv",
        "outputId": "38066b90-24b5-4306-e863-e0c5e3a580b2"
      },
      "source": [
        "sns.countplot(data=pkmn_types ,y='type', color=base_color ,order=type_order)"
      ],
      "execution_count": null,
      "outputs": [
        {
          "output_type": "execute_result",
          "data": {
            "text/plain": [
              "<matplotlib.axes._subplots.AxesSubplot at 0x7f7e2bc58690>"
            ]
          },
          "metadata": {
            "tags": []
          },
          "execution_count": 65
        },
        {
          "output_type": "display_data",
          "data": {
            "image/png": "[encoded data removed]",
            "text/plain": [
              "<Figure size 432x288 with 1 Axes>"
            ]
          },
          "metadata": {
            "tags": [],
            "needs_background": "light"
          }
        }
      ]
    },
    {
      "cell_type": "markdown",
      "metadata": {
        "id": "L7ml49lk79Mi"
      },
      "source": [
        "# 8.  Plot a bar chart having the proportions, instead of the actual count, on one of the axes."
      ]
    },
    {
      "cell_type": "markdown",
      "metadata": {
        "id": "O8SK43RM8GgU"
      },
      "source": [
        "### Step(1); Find the maximum proportion of bar"
      ]
    },
    {
      "cell_type": "code",
      "metadata": {
        "colab": {
          "base_uri": "https://localhost:8080/"
        },
        "id": "HkCynkK28BXY",
        "outputId": "d95ae84e-13f0-47da-98c1-df70abae9fa7"
      },
      "source": [
        "# Returns the sum of all not-null values in `type` column\n",
        "sums=pkmn_types['type'].value_counts().sum()\n",
        "sums"
      ],
      "execution_count": null,
      "outputs": [
        {
          "output_type": "execute_result",
          "data": {
            "text/plain": [
              "1212"
            ]
          },
          "metadata": {
            "tags": []
          },
          "execution_count": 84
        }
      ]
    },
    {
      "cell_type": "code",
      "metadata": {
        "colab": {
          "base_uri": "https://localhost:8080/"
        },
        "id": "X6jlnocq9VGG",
        "outputId": "92fe6a2b-773f-4ff7-8092-67e7b72b3c18"
      },
      "source": [
        "# Return the highest frequency in the `type` column\n",
        "max_type=type_count[0]\n",
        "max_type"
      ],
      "execution_count": null,
      "outputs": [
        {
          "output_type": "execute_result",
          "data": {
            "text/plain": [
              "131"
            ]
          },
          "metadata": {
            "tags": []
          },
          "execution_count": 85
        }
      ]
    },
    {
      "cell_type": "code",
      "metadata": {
        "colab": {
          "base_uri": "https://localhost:8080/"
        },
        "id": "FkfJ3kPV94CF",
        "outputId": "47737a7a-958f-454c-847c-ad2770774efa"
      },
      "source": [
        "# Return the maximum proportion, or in other words, \n",
        "# compute the length of the longest bar in terms of the proportion\n",
        "max_prop = max_type / sums\n",
        "print(max_prop)"
      ],
      "execution_count": null,
      "outputs": [
        {
          "output_type": "stream",
          "text": [
            "0.10808580858085809\n"
          ],
          "name": "stdout"
        }
      ]
    },
    {
      "cell_type": "markdown",
      "metadata": {
        "id": "EzZ3dOZNAx7R"
      },
      "source": [
        "### Step 2. Create an array of evenly spaced proportioned values"
      ]
    },
    {
      "cell_type": "code",
      "metadata": {
        "colab": {
          "base_uri": "https://localhost:8080/"
        },
        "id": "N6ZxfGICAzRo",
        "outputId": "ce88d49f-937d-46dc-89e7-ad98d0792791"
      },
      "source": [
        "# Use numpy.arange() function to produce a set of evenly spaced proportioned values \n",
        "# between 0 and max_prop, with a step size 2\\%\n",
        "tick_props = np.arange(0, max_prop, 0.02)\n",
        "tick_props"
      ],
      "execution_count": null,
      "outputs": [
        {
          "output_type": "execute_result",
          "data": {
            "text/plain": [
              "array([0.  , 0.02, 0.04, 0.06, 0.08, 0.1 ])"
            ]
          },
          "metadata": {
            "tags": []
          },
          "execution_count": 89
        }
      ]
    },
    {
      "cell_type": "markdown",
      "metadata": {
        "id": "umjBgqINFGOt"
      },
      "source": [
        "### Step 3. Create a list of String values that can be used as tick labels."
      ]
    },
    {
      "cell_type": "code",
      "metadata": {
        "colab": {
          "base_uri": "https://localhost:8080/"
        },
        "id": "C7jpfSxkFHT-",
        "outputId": "664aa776-db8c-4092-dfc8-0c422c2e2e1f"
      },
      "source": [
        "# Use a list comprehension to create tick_names that we will apply to the tick labels. \n",
        "# Pick each element `v` from the `tick_props`, and convert it into a formatted string.\n",
        "# `{:0.2f}` denotes that before formatting, we 2 digits of precision and `f` is used to represent floating point number.\n",
        "# Refer [here](https://docs.python.org/2/library/string.html#format-string-syntax) for more details\n",
        "tick_names = ['{:0.2f}'.format(v) for v in tick_props]\n",
        "tick_names"
      ],
      "execution_count": null,
      "outputs": [
        {
          "output_type": "execute_result",
          "data": {
            "text/plain": [
              "['0.00', '0.02', '0.04', '0.06', '0.08', '0.10']"
            ]
          },
          "metadata": {
            "tags": []
          },
          "execution_count": 90
        }
      ]
    },
    {
      "cell_type": "markdown",
      "metadata": {
        "id": "yUlxx70yFUFZ"
      },
      "source": [
        "### Step 4. Plot the bar chart, with new x-tick labels\n"
      ]
    },
    {
      "cell_type": "code",
      "metadata": {
        "colab": {
          "base_uri": "https://localhost:8080/",
          "height": 279
        },
        "id": "MCceD2o4FU9l",
        "outputId": "112c7ad5-ed59-4f87-e22e-6b18dfe34d07"
      },
      "source": [
        "sns.countplot(data=pkmn_types, y='type', color=base_color, order=type_order);\n",
        "# Change the tick locations and labels\n",
        "plt.xticks(tick_props * sums, tick_names)\n",
        "plt.xlabel('proportion');"
      ],
      "execution_count": null,
      "outputs": [
        {
          "output_type": "display_data",
          "data": {
            "image/png": "[encoded data removed]",
            "text/plain": [
              "<Figure size 432x288 with 1 Axes>"
            ]
          },
          "metadata": {
            "tags": [],
            "needs_background": "light"
          }
        }
      ]
    },
    {
      "cell_type": "markdown",
      "metadata": {
        "id": "D1r7XM2lFn6V"
      },
      "source": [
        "# 9. Print the text (proportion) on the bars of a horizontal plot.\n"
      ]
    },
    {
      "cell_type": "code",
      "metadata": {
        "colab": {
          "base_uri": "https://localhost:8080/",
          "height": 279
        },
        "id": "4OcV4ROUFv_K",
        "outputId": "eb94616b-907f-413f-d888-0a857799eb11"
      },
      "source": [
        "# Considering the same chart from the Example 1 above, print the text (proportion) on the bars\n",
        "base_color = sns.color_palette()[9]\n",
        "sns.countplot(data=pkmn_types, y='type', color=base_color, order=type_order);\n",
        "\n",
        "# Logic to print the proportion text on the bars\n",
        "for i in range (type_count.shape[0]):\n",
        "    # Remember, type_counts contains the frequency of unique values in the `type` column in decreasing order.\n",
        "    count = type_count[i]\n",
        "    # Convert count into a percentage, and then into string\n",
        "    pct_string = '{:0.1f}'.format(100*count/sums)\n",
        "    # Print the string value on the bar. \n",
        "    # Read more about the arguments of text() function [here](https://matplotlib.org/3.1.1/api/_as_gen/matplotlib.pyplot.text.html)\n",
        "    plt.text(count+1, i, pct_string, va='center')"
      ],
      "execution_count": null,
      "outputs": [
        {
          "output_type": "display_data",
          "data": {
            "image/png": "[encoded data removed]",
            "text/plain": [
              "<Figure size 432x288 with 1 Axes>"
            ]
          },
          "metadata": {
            "tags": [],
            "needs_background": "light"
          }
        }
      ]
    },
    {
      "cell_type": "markdown",
      "metadata": {
        "id": "HLIuTVQXGPEF"
      },
      "source": [
        "# 10.  Print the text (proportion) below the bars of a Vertical plot."
      ]
    },
    {
      "cell_type": "code",
      "metadata": {
        "colab": {
          "base_uri": "https://localhost:8080/",
          "height": 309
        },
        "id": "ecKEvMIwGQrg",
        "outputId": "58cd6b12-4726-449f-8abf-7a72fcd73b5c"
      },
      "source": [
        "# Considering the same chart from the Example 1 above, print the text (proportion) BELOW the bars\n",
        "base_color = sns.color_palette()[0]\n",
        "sns.countplot(data=pkmn_types, x='type', color=base_color, order=type_order);\n",
        "\n",
        "\n",
        "# Recalculating the type_counts just to have clarity.\n",
        "type_counts = pkmn_types['type'].value_counts()\n",
        "\n",
        "# get the current tick locations and labels\n",
        "locs, labels = plt.xticks(rotation=90) \n",
        "\n",
        "# loop through each pair of locations and labels\n",
        "for loc, label in zip(locs, labels):\n",
        "\n",
        "    # get the text property for the label to get the correct count\n",
        "    count = type_counts[label.get_text()]\n",
        "    pct_string = '{:0.1f}%'.format(100*count/sums)\n",
        "\n",
        "    # print the annotation just below the top of the bar\n",
        "    plt.text(loc, count+2, pct_string, ha = 'center', color = 'black')\n",
        "\n",
        "from matplotlib import rcParams\n",
        "# Specify the figure size in inches, for both X, and Y axes\n",
        "rcParams['figure.figsize'] = 12,4"
      ],
      "execution_count": null,
      "outputs": [
        {
          "output_type": "display_data",
          "data": {
            "image/png": "[encoded data removed]",
            "text/plain": [
              "<Figure size 864x288 with 1 Axes>"
            ]
          },
          "metadata": {
            "tags": [],
            "needs_background": "light"
          }
        }
      ]
    }
  ]
}
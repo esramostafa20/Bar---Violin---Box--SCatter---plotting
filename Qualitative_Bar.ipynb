{
  "nbformat": 4,
  "nbformat_minor": 0,
  "metadata": {
    "colab": {
      "provenance": [],
      "collapsed_sections": []
    },
    "kernelspec": {
      "name": "python3",
      "display_name": "Python 3"
    }
  },
  "cells": [
    {
      "cell_type": "code",
      "metadata": {
        "id": "0zLPudTTofBZ"
      },
      "source": [
        "import pandas as pd\n",
        "import numpy as np\n",
        "import matplotlib.pyplot as plt\n",
        "import seaborn as sns\n",
        "%matplotlib inline"
      ],
      "execution_count": null,
      "outputs": []
    },
    {
      "cell_type": "code",
      "metadata": {
        "colab": {
          "base_uri": "https://localhost:8080/"
        },
        "id": "Q-Kk_RCVvJIw",
        "outputId": "e6e25776-32e7-4d1f-c6cd-72e236fc4054"
      },
      "source": [
        "from google.colab import drive\n",
        "drive.mount('/content/drive')"
      ],
      "execution_count": null,
      "outputs": [
        {
          "output_type": "stream",
          "text": [
            "Mounted at /content/drive\n"
          ],
          "name": "stdout"
        }
      ]
    },
    {
      "cell_type": "code",
      "metadata": {
        "id": "6bmCFR8LrOvl"
      },
      "source": [
        "pokemon=pd.read_csv('/content/drive/MyDrive/Downloads/pokemon.csv')"
      ],
      "execution_count": null,
      "outputs": []
    },
    {
      "cell_type": "code",
      "metadata": {
        "colab": {
          "base_uri": "https://localhost:8080/",
          "height": 204
        },
        "id": "ITSTeRNLxgVT",
        "outputId": "edd488e9-36c6-417b-bfa7-b16c40fd28fd"
      },
      "source": [
        "pokemon.head()"
      ],
      "execution_count": null,
      "outputs": [
        {
          "output_type": "execute_result",
          "data": {
            "text/html": [
              "<div>\n",
              "<style scoped>\n",
              "    .dataframe tbody tr th:only-of-type {\n",
              "        vertical-align: middle;\n",
              "    }\n",
              "\n",
              "    .dataframe tbody tr th {\n",
              "        vertical-align: top;\n",
              "    }\n",
              "\n",
              "    .dataframe thead th {\n",
              "        text-align: right;\n",
              "    }\n",
              "</style>\n",
              "<table border=\"1\" class=\"dataframe\">\n",
              "  <thead>\n",
              "    <tr style=\"text-align: right;\">\n",
              "      <th></th>\n",
              "      <th>id</th>\n",
              "      <th>species</th>\n",
              "      <th>generation_id</th>\n",
              "      <th>height</th>\n",
              "      <th>weight</th>\n",
              "      <th>base_experience</th>\n",
              "      <th>type_1</th>\n",
              "      <th>type_2</th>\n",
              "      <th>hp</th>\n",
              "      <th>attack</th>\n",
              "      <th>defense</th>\n",
              "      <th>speed</th>\n",
              "      <th>special-attack</th>\n",
              "      <th>special-defense</th>\n",
              "    </tr>\n",
              "  </thead>\n",
              "  <tbody>\n",
              "    <tr>\n",
              "      <th>0</th>\n",
              "      <td>1</td>\n",
              "      <td>bulbasaur</td>\n",
              "      <td>1</td>\n",
              "      <td>0.7</td>\n",
              "      <td>6.9</td>\n",
              "      <td>64</td>\n",
              "      <td>grass</td>\n",
              "      <td>poison</td>\n",
              "      <td>45</td>\n",
              "      <td>49</td>\n",
              "      <td>49</td>\n",
              "      <td>45</td>\n",
              "      <td>65</td>\n",
              "      <td>65</td>\n",
              "    </tr>\n",
              "    <tr>\n",
              "      <th>1</th>\n",
              "      <td>2</td>\n",
              "      <td>ivysaur</td>\n",
              "      <td>1</td>\n",
              "      <td>1.0</td>\n",
              "      <td>13.0</td>\n",
              "      <td>142</td>\n",
              "      <td>grass</td>\n",
              "      <td>poison</td>\n",
              "      <td>60</td>\n",
              "      <td>62</td>\n",
              "      <td>63</td>\n",
              "      <td>60</td>\n",
              "      <td>80</td>\n",
              "      <td>80</td>\n",
              "    </tr>\n",
              "    <tr>\n",
              "      <th>2</th>\n",
              "      <td>3</td>\n",
              "      <td>venusaur</td>\n",
              "      <td>1</td>\n",
              "      <td>2.0</td>\n",
              "      <td>100.0</td>\n",
              "      <td>236</td>\n",
              "      <td>grass</td>\n",
              "      <td>poison</td>\n",
              "      <td>80</td>\n",
              "      <td>82</td>\n",
              "      <td>83</td>\n",
              "      <td>80</td>\n",
              "      <td>100</td>\n",
              "      <td>100</td>\n",
              "    </tr>\n",
              "    <tr>\n",
              "      <th>3</th>\n",
              "      <td>4</td>\n",
              "      <td>charmander</td>\n",
              "      <td>1</td>\n",
              "      <td>0.6</td>\n",
              "      <td>8.5</td>\n",
              "      <td>62</td>\n",
              "      <td>fire</td>\n",
              "      <td>NaN</td>\n",
              "      <td>39</td>\n",
              "      <td>52</td>\n",
              "      <td>43</td>\n",
              "      <td>65</td>\n",
              "      <td>60</td>\n",
              "      <td>50</td>\n",
              "    </tr>\n",
              "    <tr>\n",
              "      <th>4</th>\n",
              "      <td>5</td>\n",
              "      <td>charmeleon</td>\n",
              "      <td>1</td>\n",
              "      <td>1.1</td>\n",
              "      <td>19.0</td>\n",
              "      <td>142</td>\n",
              "      <td>fire</td>\n",
              "      <td>NaN</td>\n",
              "      <td>58</td>\n",
              "      <td>64</td>\n",
              "      <td>58</td>\n",
              "      <td>80</td>\n",
              "      <td>80</td>\n",
              "      <td>65</td>\n",
              "    </tr>\n",
              "  </tbody>\n",
              "</table>\n",
              "</div>"
            ],
            "text/plain": [
              "   id     species  generation_id  ...  speed  special-attack  special-defense\n",
              "0   1   bulbasaur              1  ...     45              65               65\n",
              "1   2     ivysaur              1  ...     60              80               80\n",
              "2   3    venusaur              1  ...     80             100              100\n",
              "3   4  charmander              1  ...     65              60               50\n",
              "4   5  charmeleon              1  ...     80              80               65\n",
              "\n",
              "[5 rows x 14 columns]"
            ]
          },
          "metadata": {
            "tags": []
          },
          "execution_count": 4
        }
      ]
    },
    {
      "cell_type": "markdown",
      "metadata": {
        "id": "68CufCQuxu1D"
      },
      "source": [
        "# Bar plot using Seaborn"
      ]
    },
    {
      "cell_type": "markdown",
      "metadata": {
        "id": "-w5-Drvb2USY"
      },
      "source": [
        "seaborn.countplot(*, x=None, y=None, data=None, order=None, orient=None, color=None)"
      ]
    },
    {
      "cell_type": "code",
      "metadata": {
        "colab": {
          "base_uri": "https://localhost:8080/"
        },
        "id": "1RIY90eHx2hi",
        "outputId": "b0f8134a-0d79-41e9-b937-b70fad63b4fd"
      },
      "source": [
        "sns.countplot(data=pokemon,x='generation_id');"
      ],
      "execution_count": null,
      "outputs": [
        {
          "output_type": "display_data",
          "data": {
            "image/png": "[encoded data removed]",
            "text/plain": [
              "<Figure size 432x288 with 1 Axes>"
            ]
          },
          "metadata": {
            "tags": [],
            "needs_background": "light"
          }
        }
      ]
    },
    {
      "cell_type": "markdown",
      "metadata": {
        "id": "o7Imc98n1tR0"
      },
      "source": [
        "##  Create a vertical bar chart using Seaborn, with a uniform single color"
      ]
    },
    {
      "cell_type": "code",
      "metadata": {
        "colab": {
          "base_uri": "https://localhost:8080/"
        },
        "id": "98EX4jNY1uPf",
        "outputId": "7122fd84-78a0-4458-ba8f-d9fc73055d5d"
      },
      "source": [
        "base_color=sns.color_palette()[7]\n",
        "sns.countplot(data=pokemon ,x='generation_id' , color=base_color)"
      ],
      "execution_count": null,
      "outputs": [
        {
          "output_type": "execute_result",
          "data": {
            "text/plain": [
              "<matplotlib.axes._subplots.AxesSubplot at 0x7f01b6e06c50>"
            ]
          },
          "metadata": {
            "tags": []
          },
          "execution_count": 13
        },
        {
          "output_type": "display_data",
          "data": {
            "image/png": "[encoded data removed]",
            "text/plain": [
              "<Figure size 432x288 with 1 Axes>"
            ]
          },
          "metadata": {
            "tags": [],
            "needs_background": "light"
          }
        }
      ]
    },
    {
      "cell_type": "code",
      "metadata": {
        "colab": {
          "base_uri": "https://localhost:8080/"
        },
        "id": "pvE-Ig601057",
        "outputId": "ec647bb7-ed38-48ca-a57d-b77d2fb7c06c"
      },
      "source": [
        "base_color1=sns.color_palette()[0]\n",
        "sns.countplot(data=pokemon ,x='generation_id' , color=base_color1)"
      ],
      "execution_count": null,
      "outputs": [
        {
          "output_type": "execute_result",
          "data": {
            "text/plain": [
              "<matplotlib.axes._subplots.AxesSubplot at 0x7f01b6d80c88>"
            ]
          },
          "metadata": {
            "tags": []
          },
          "execution_count": 14
        },
        {
          "output_type": "display_data",
          "data": {
            "image/png": "[encoded data removed]",
            "text/plain": [
              "<Figure size 432x288 with 1 Axes>"
            ]
          },
          "metadata": {
            "tags": [],
            "needs_background": "light"
          }
        }
      ]
    },
    {
      "cell_type": "markdown",
      "metadata": {
        "id": "RZkmX9Hr2hV_"
      },
      "source": [
        "## Static and dynamic ordering of the bars in a bar chart using seaborn.countplot()"
      ]
    },
    {
      "cell_type": "code",
      "metadata": {
        "colab": {
          "base_uri": "https://localhost:8080/"
        },
        "id": "Gr5ai1gl2kZM",
        "outputId": "a250f5fb-a2b8-4547-b432-eab3c24bedf8"
      },
      "source": [
        "freq=pokemon['generation_id'].value_counts()\n",
        "automatic_ordering=freq.index\n",
        "sns.countplot(data=pokemon ,x='generation_id',color=base_color1 ,order=automatic_ordering)"
      ],
      "execution_count": null,
      "outputs": [
        {
          "output_type": "execute_result",
          "data": {
            "text/plain": [
              "<matplotlib.axes._subplots.AxesSubplot at 0x7f01b6d67c18>"
            ]
          },
          "metadata": {
            "tags": []
          },
          "execution_count": 15
        },
        {
          "output_type": "display_data",
          "data": {
            "image/png": "[encoded data removed]",
            "text/plain": [
              "<Figure size 432x288 with 1 Axes>"
            ]
          },
          "metadata": {
            "tags": [],
            "needs_background": "light"
          }
        }
      ]
    },
    {
      "cell_type": "markdown",
      "metadata": {
        "id": "rYx183TT3uFG"
      },
      "source": [
        "## Rotatin the categorical label(not axis)"
      ]
    },
    {
      "cell_type": "code",
      "metadata": {
        "colab": {
          "base_uri": "https://localhost:8080/"
        },
        "id": "ewhGb9li32ui",
        "outputId": "48e03efa-d427-4550-85e1-c64d9630b0b8"
      },
      "source": [
        "sns.countplot(data=pokemon,x='type_1',color=base_color)\n",
        "# Use xticks to rotate the category labels (not axes) counter-clockwise\n",
        "plt.xticks(rotation=90)"
      ],
      "execution_count": null,
      "outputs": [
        {
          "output_type": "execute_result",
          "data": {
            "text/plain": [
              "(array([ 0,  1,  2,  3,  4,  5,  6,  7,  8,  9, 10, 11, 12, 13, 14, 15, 16,\n",
              "        17]), <a list of 18 Text major ticklabel objects>)"
            ]
          },
          "metadata": {
            "tags": []
          },
          "execution_count": 16
        },
        {
          "output_type": "display_data",
          "data": {
            "image/png": "[encoded data removed]",
            "text/plain": [
              "<Figure size 432x288 with 1 Axes>"
            ]
          },
          "metadata": {
            "tags": [],
            "needs_background": "light"
          }
        }
      ]
    },
    {
      "cell_type": "markdown",
      "metadata": {
        "id": "UcibsGQ54Z0l"
      },
      "source": [
        "## Rotate the axes clockwise"
      ]
    },
    {
      "cell_type": "code",
      "metadata": {
        "colab": {
          "base_uri": "https://localhost:8080/"
        },
        "id": "9mChLqRv4a26",
        "outputId": "196604ab-9759-4be9-90f8-758264826913"
      },
      "source": [
        "# Plot the Pokemon type on a Horizontal bar chart\n",
        "type_order = pokemon['type_1'].value_counts().index\n",
        "sns.countplot(data=pokemon, y='type_1', color=base_color, order=type_order);"
      ],
      "execution_count": null,
      "outputs": [
        {
          "output_type": "display_data",
          "data": {
            "image/png": "[encoded data removed]",
            "text/plain": [
              "<Figure size 432x288 with 1 Axes>"
            ]
          },
          "metadata": {
            "tags": [],
            "needs_background": "light"
          }
        }
      ]
    },
    {
      "cell_type": "markdown",
      "metadata": {
        "id": "Z57Jblxd5cwq"
      },
      "source": [
        "# Bar plot using matplotlib"
      ]
    },
    {
      "cell_type": "code",
      "metadata": {
        "colab": {
          "base_uri": "https://localhost:8080/",
          "height": 280
        },
        "id": "4zvepsDu5jf_",
        "outputId": "f2647f8d-6b1b-4ab7-a810-3989c5396a67"
      },
      "source": [
        "# Return the Series having unique values\n",
        "x = pokemon['generation_id'].unique()\n",
        "\n",
        "# Return the Series having frequency count of each unique value\n",
        "y = pokemon['generation_id'].value_counts(sort=False)\n",
        "\n",
        "plt.bar(x, y)\n",
        "\n",
        "# Labeling the axes\n",
        "plt.xlabel('generation_id')\n",
        "plt.ylabel('count')\n",
        "\n",
        "# Dsiplay the plot\n",
        "plt.show()"
      ],
      "execution_count": null,
      "outputs": [
        {
          "output_type": "display_data",
          "data": {
            "image/png": "[encoded data removed]",
            "text/plain": [
              "<Figure size 432x288 with 1 Axes>"
            ]
          },
          "metadata": {
            "tags": [],
            "needs_background": "light"
          }
        }
      ]
    },
    {
      "cell_type": "markdown",
      "metadata": {
        "id": "D5hFTAonON7n"
      },
      "source": [
        "# Absolute vs. Relative Frequency\n"
      ]
    },
    {
      "cell_type": "markdown",
      "metadata": {
        "id": "1HrR2BjhlMzK"
      },
      "source": [
        "## By default, seaborn's countplot function will summarize and plot the data in terms of absolute frequency, or pure counts. In certain cases, you might want to understand the distribution of data or want to compare levels in terms of the proportions of the whole. In this case, you will want to plot the data in terms of relative frequency, where the height indicates the proportion of data taking each level, rather than the absolute count.\n",
        "\n",
        "## One method of plotting the data in terms of relative frequency on a bar chart is to just relabel the count's axis in terms of proportions. The underlying data will be the same, it will simply be the scale of the axis ticks that will be changed."
      ]
    },
    {
      "cell_type": "code",
      "metadata": {
        "id": "SoYY4LSwOP_M",
        "colab": {
          "base_uri": "https://localhost:8080/",
          "height": 359
        },
        "outputId": "61df60b8-d6c2-44e1-b2bb-2fd3728170d3"
      },
      "source": [
        "pkmn=pokemon.melt(id_vars=['id', 'species'], value_vars=['type_1', 'type_2'], \n",
        "                          var_name='type_level', \n",
        "                          value_name='type')\n",
        "pkmn.head(10)"
      ],
      "execution_count": null,
      "outputs": [
        {
          "output_type": "execute_result",
          "data": {
            "text/html": [
              "<div>\n",
              "<style scoped>\n",
              "    .dataframe tbody tr th:only-of-type {\n",
              "        vertical-align: middle;\n",
              "    }\n",
              "\n",
              "    .dataframe tbody tr th {\n",
              "        vertical-align: top;\n",
              "    }\n",
              "\n",
              "    .dataframe thead th {\n",
              "        text-align: right;\n",
              "    }\n",
              "</style>\n",
              "<table border=\"1\" class=\"dataframe\">\n",
              "  <thead>\n",
              "    <tr style=\"text-align: right;\">\n",
              "      <th></th>\n",
              "      <th>id</th>\n",
              "      <th>species</th>\n",
              "      <th>type_level</th>\n",
              "      <th>type</th>\n",
              "    </tr>\n",
              "  </thead>\n",
              "  <tbody>\n",
              "    <tr>\n",
              "      <th>0</th>\n",
              "      <td>1</td>\n",
              "      <td>bulbasaur</td>\n",
              "      <td>type_1</td>\n",
              "      <td>grass</td>\n",
              "    </tr>\n",
              "    <tr>\n",
              "      <th>1</th>\n",
              "      <td>2</td>\n",
              "      <td>ivysaur</td>\n",
              "      <td>type_1</td>\n",
              "      <td>grass</td>\n",
              "    </tr>\n",
              "    <tr>\n",
              "      <th>2</th>\n",
              "      <td>3</td>\n",
              "      <td>venusaur</td>\n",
              "      <td>type_1</td>\n",
              "      <td>grass</td>\n",
              "    </tr>\n",
              "    <tr>\n",
              "      <th>3</th>\n",
              "      <td>4</td>\n",
              "      <td>charmander</td>\n",
              "      <td>type_1</td>\n",
              "      <td>fire</td>\n",
              "    </tr>\n",
              "    <tr>\n",
              "      <th>4</th>\n",
              "      <td>5</td>\n",
              "      <td>charmeleon</td>\n",
              "      <td>type_1</td>\n",
              "      <td>fire</td>\n",
              "    </tr>\n",
              "    <tr>\n",
              "      <th>5</th>\n",
              "      <td>6</td>\n",
              "      <td>charizard</td>\n",
              "      <td>type_1</td>\n",
              "      <td>fire</td>\n",
              "    </tr>\n",
              "    <tr>\n",
              "      <th>6</th>\n",
              "      <td>7</td>\n",
              "      <td>squirtle</td>\n",
              "      <td>type_1</td>\n",
              "      <td>water</td>\n",
              "    </tr>\n",
              "    <tr>\n",
              "      <th>7</th>\n",
              "      <td>8</td>\n",
              "      <td>wartortle</td>\n",
              "      <td>type_1</td>\n",
              "      <td>water</td>\n",
              "    </tr>\n",
              "    <tr>\n",
              "      <th>8</th>\n",
              "      <td>9</td>\n",
              "      <td>blastoise</td>\n",
              "      <td>type_1</td>\n",
              "      <td>water</td>\n",
              "    </tr>\n",
              "    <tr>\n",
              "      <th>9</th>\n",
              "      <td>10</td>\n",
              "      <td>caterpie</td>\n",
              "      <td>type_1</td>\n",
              "      <td>bug</td>\n",
              "    </tr>\n",
              "  </tbody>\n",
              "</table>\n",
              "</div>"
            ],
            "text/plain": [
              "   id     species type_level   type\n",
              "0   1   bulbasaur     type_1  grass\n",
              "1   2     ivysaur     type_1  grass\n",
              "2   3    venusaur     type_1  grass\n",
              "3   4  charmander     type_1   fire\n",
              "4   5  charmeleon     type_1   fire\n",
              "5   6   charizard     type_1   fire\n",
              "6   7    squirtle     type_1  water\n",
              "7   8   wartortle     type_1  water\n",
              "8   9   blastoise     type_1  water\n",
              "9  10    caterpie     type_1    bug"
            ]
          },
          "metadata": {
            "tags": []
          },
          "execution_count": 8
        }
      ]
    },
    {
      "cell_type": "code",
      "metadata": {
        "id": "y2UGbdD2o93P",
        "colab": {
          "base_uri": "https://localhost:8080/"
        },
        "outputId": "b737522e-24a4-4c72-e6f7-1ebd71f8a0e8"
      },
      "source": [
        "# Find the frequency of unique values in the type column\n",
        "pkmn_count=pkmn['type'].value_counts()\n",
        "pkmn_count"
      ],
      "execution_count": null,
      "outputs": [
        {
          "output_type": "execute_result",
          "data": {
            "text/plain": [
              "water       131\n",
              "normal      109\n",
              "flying       98\n",
              "grass        97\n",
              "psychic      82\n",
              "bug          77\n",
              "poison       66\n",
              "ground       64\n",
              "fire         64\n",
              "rock         60\n",
              "fighting     54\n",
              "electric     48\n",
              "fairy        47\n",
              "steel        47\n",
              "dark         46\n",
              "dragon       45\n",
              "ghost        43\n",
              "ice          34\n",
              "Name: type, dtype: int64"
            ]
          },
          "metadata": {
            "tags": []
          },
          "execution_count": 12
        }
      ]
    },
    {
      "cell_type": "code",
      "metadata": {
        "colab": {
          "base_uri": "https://localhost:8080/"
        },
        "id": "Gw_zcbaJfnYV",
        "outputId": "f5deb073-95ae-44b6-fa2f-1fe502d04e6a"
      },
      "source": [
        "# Get the unique values of the `type` column, in the decreasing order of the frequency.\n",
        "pkmn_order=pkmn_count.index\n",
        "pkmn_order"
      ],
      "execution_count": null,
      "outputs": [
        {
          "output_type": "execute_result",
          "data": {
            "text/plain": [
              "Index(['water', 'normal', 'flying', 'grass', 'psychic', 'bug', 'poison',\n",
              "       'ground', 'fire', 'rock', 'fighting', 'electric', 'fairy', 'steel',\n",
              "       'dark', 'dragon', 'ghost', 'ice'],\n",
              "      dtype='object')"
            ]
          },
          "metadata": {
            "tags": []
          },
          "execution_count": 14
        }
      ]
    },
    {
      "cell_type": "code",
      "metadata": {
        "colab": {
          "base_uri": "https://localhost:8080/",
          "height": 279
        },
        "id": "VFDnnhdkf93q",
        "outputId": "22abc9a9-a346-4f3f-e553-7f8950fb2158"
      },
      "source": [
        "# Plot the horizontal bar charts\n",
        "base_color=sns.color_palette()[0]\n",
        "sns.countplot(data=pkmn, y='type', color=base_color, order=pkmn_order);"
      ],
      "execution_count": null,
      "outputs": [
        {
          "output_type": "display_data",
          "data": {
            "image/png": "[encoded data removed]",
            "text/plain": [
              "<Figure size 432x288 with 1 Axes>"
            ]
          },
          "metadata": {
            "tags": [],
            "needs_background": "light"
          }
        }
      ]
    },
    {
      "cell_type": "markdown",
      "metadata": {
        "id": "udeiYXLXhNCp"
      },
      "source": [
        "##  Plot a bar chart having the proportions, instead of the actual count, on one of the axes."
      ]
    },
    {
      "cell_type": "code",
      "metadata": {
        "colab": {
          "base_uri": "https://localhost:8080/"
        },
        "id": "CvvjRZlrhBBw",
        "outputId": "9b9d13eb-4bcb-40a7-87f8-112f0361554d"
      },
      "source": [
        "# Find the maximum proportion of bar\n",
        "# Returns the sum of all not-null values in `type` column\n",
        "n_pokemon = pkmn['type'].value_counts().sum()\n",
        "\n",
        "# Return the highest frequency in the `type` column\n",
        "max_type_count = pkmn_count[0]\n",
        "\n",
        "\n",
        "# Return the maximum proportion, or in other words, \n",
        "# compute the length of the longest bar in terms of the proportion\n",
        "max_prop = max_type_count / n_pokemon\n",
        "print(max_prop)"
      ],
      "execution_count": null,
      "outputs": [
        {
          "output_type": "stream",
          "text": [
            "0.10808580858085809\n"
          ],
          "name": "stdout"
        }
      ]
    },
    {
      "cell_type": "code",
      "metadata": {
        "colab": {
          "base_uri": "https://localhost:8080/"
        },
        "id": "ous9l_sAhVLj",
        "outputId": "268ab80f-8b57-443b-ae37-cdaba5c1343e"
      },
      "source": [
        "# Create an array of evenly spaced proportioned values\n",
        "# Use numpy.arange() function to produce a set of evenly spaced proportioned values \n",
        "# between 0 and max_prop, with a step size 2\\%\n",
        "tick_props = np.arange(0, max_prop, 0.02)\n",
        "tick_props"
      ],
      "execution_count": null,
      "outputs": [
        {
          "output_type": "execute_result",
          "data": {
            "text/plain": [
              "array([0.  , 0.02, 0.04, 0.06, 0.08, 0.1 ])"
            ]
          },
          "metadata": {
            "tags": []
          },
          "execution_count": 24
        }
      ]
    },
    {
      "cell_type": "code",
      "metadata": {
        "colab": {
          "base_uri": "https://localhost:8080/"
        },
        "id": "GYKRU7cbiVcH",
        "outputId": "5f2caa94-1a7e-4818-e544-ee860915be09"
      },
      "source": [
        "# Create a list of String values that can be used as tick labels.\n",
        "# Use a list comprehension to create tick_names that we will apply to the tick labels. \n",
        "# Pick each element `v` from the `tick_props`, and convert it into a formatted string.\n",
        "# `{:0.2f}` denotes that before formatting, we 2 digits of precision and `f` is used to represent floating point number.\n",
        "# Refer [here](https://docs.python.org/2/library/string.html#format-string-syntax) for more details\n",
        "tick_names = ['{:0.2f}'.format(v) for v in tick_props]\n",
        "tick_names\n"
      ],
      "execution_count": null,
      "outputs": [
        {
          "output_type": "execute_result",
          "data": {
            "text/plain": [
              "['0.00', '0.02', '0.04', '0.06', '0.08', '0.10']"
            ]
          },
          "metadata": {
            "tags": []
          },
          "execution_count": 25
        }
      ]
    },
    {
      "cell_type": "code",
      "metadata": {
        "colab": {
          "base_uri": "https://localhost:8080/",
          "height": 279
        },
        "id": "ju4eIxmKixXr",
        "outputId": "826ccab6-be35-4c46-d004-f3f26014cca2"
      },
      "source": [
        "#  Plot the bar chart, with new x-tick labels\n",
        "sns.countplot(data=pkmn, y='type', color=base_color, order=pkmn_order);\n",
        "# Change the tick locations and labels\n",
        "plt.xticks(tick_props * n_pokemon, tick_names)\n",
        "plt.xlabel('proportion');"
      ],
      "execution_count": null,
      "outputs": [
        {
          "output_type": "display_data",
          "data": {
            "image/png": "[encoded data removed]",
            "text/plain": [
              "<Figure size 432x288 with 1 Axes>"
            ]
          },
          "metadata": {
            "tags": [],
            "needs_background": "light"
          }
        }
      ]
    },
    {
      "cell_type": "code",
      "metadata": {
        "colab": {
          "base_uri": "https://localhost:8080/",
          "height": 279
        },
        "id": "j_L0lj53i3vO",
        "outputId": "22a89099-1ff3-45e9-db73-47ced912f4b9"
      },
      "source": [
        "#  Print the text (proportion) on the bars of a horizontal plot.\n",
        "# Considering the same chart from the Example 1 above, print the text (proportion) on the bars\n",
        "base_color = sns.color_palette()[0]\n",
        "sns.countplot(data=pkmn, y='type', color=base_color, order=pkmn_order);\n",
        "\n",
        "# Logic to print the proportion text on the bars\n",
        "for i in range (pkmn_count.shape[0]):\n",
        "    # Remember, type_counts contains the frequency of unique values in the `type` column in decreasing order.\n",
        "    count = pkmn_count[i]\n",
        "    # Convert count into a percentage, and then into string\n",
        "    pct_string = '{:0.1f}'.format(100*count/n_pokemon)\n",
        "    # Print the string value on the bar. \n",
        "    # Read more about the arguments of text() function [here](https://matplotlib.org/3.1.1/api/_as_gen/matplotlib.pyplot.text.html)\n",
        "    plt.text(count+1, i, pct_string, va='center')"
      ],
      "execution_count": null,
      "outputs": [
        {
          "output_type": "display_data",
          "data": {
            "image/png": "[encoded data removed]",
            "text/plain": [
              "<Figure size 432x288 with 1 Axes>"
            ]
          },
          "metadata": {
            "tags": [],
            "needs_background": "light"
          }
        }
      ]
    },
    {
      "cell_type": "code",
      "metadata": {
        "colab": {
          "base_uri": "https://localhost:8080/",
          "height": 309
        },
        "id": "_UNe1Fq2jPVx",
        "outputId": "cadf4ad5-a8a0-43e0-f8d9-70c86f51ed85"
      },
      "source": [
        "# Print the text (proportion) below the bars of a Vertical plot.\n",
        "# Considering the same chart from the Example 1 above, print the text (proportion) BELOW the bars\n",
        "base_color = sns.color_palette()[0]\n",
        "sns.countplot(data=pkmn, x='type', color=base_color, order=pkmn_order);\n",
        "\n",
        "\n",
        "# Recalculating the type_counts just to have clarity.\n",
        "type_counts = pkmn['type'].value_counts()\n",
        "\n",
        "\n",
        "# get the current tick locations and labels\n",
        "locs, labels = plt.xticks(rotation=90) \n",
        "\n",
        "# loop through each pair of locations and labels\n",
        "for loc, label in zip(locs, labels):\n",
        "\n",
        "    # get the text property for the label to get the correct count\n",
        "    count = type_counts[label.get_text()]\n",
        "    pct_string = '{:0.1f}%'.format(100*count/n_pokemon)\n",
        "\n",
        "    # print the annotation just below the top of the bar\n",
        "    plt.text(loc, count+2, pct_string, ha = 'center', color = 'black')"
      ],
      "execution_count": null,
      "outputs": [
        {
          "output_type": "display_data",
          "data": {
            "image/png": "[encoded data removed]",
            "text/plain": [
              "<Figure size 864x288 with 1 Axes>"
            ]
          },
          "metadata": {
            "tags": [],
            "needs_background": "light"
          }
        }
      ]
    },
    {
      "cell_type": "code",
      "metadata": {
        "id": "Yj48O6xvjpcI"
      },
      "source": [
        "from matplotlib import rcParams\n",
        "# Specify the figure size in inches, for both X, and Y axes\n",
        "rcParams['figure.figsize'] = 12,4"
      ],
      "execution_count": null,
      "outputs": []
    }
  ]
}
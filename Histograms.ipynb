{
  "nbformat": 4,
  "nbformat_minor": 0,
  "metadata": {
    "colab": {
      "provenance": [],
      "collapsed_sections": []
    },
    "kernelspec": {
      "name": "python3",
      "display_name": "Python 3"
    },
    "language_info": {
      "name": "python"
    }
  },
  "cells": [
    {
      "cell_type": "markdown",
      "metadata": {
        "id": "zGynjYCW8nyC"
      },
      "source": [
        "# Histograms\n",
        "A histogram is used to plot the distribution of a numeric variable. It's the quantitative version of the bar chart. However, rather than plot one bar for each unique numeric value, values are grouped into continuous bins, and one bar for each bin is plotted to depict the number. You can use either Matplotlib or Seaborn to plot the histograms. There is a mild variation in the specifics, such as plotting gaussian-estimation line along with bars in Seabron's distplot(), and the arguments that you can use in either case."
      ]
    },
    {
      "cell_type": "code",
      "metadata": {
        "colab": {
          "base_uri": "https://localhost:8080/"
        },
        "id": "oY90kwn98j6O",
        "outputId": "742b23a6-33d7-4a53-d0dc-9eefdb1febd1"
      },
      "source": [
        "from google.colab import drive\n",
        "drive.mount('/content/drive')"
      ],
      "execution_count": null,
      "outputs": [
        {
          "output_type": "stream",
          "text": [
            "Mounted at /content/drive\n"
          ],
          "name": "stdout"
        }
      ]
    },
    {
      "cell_type": "code",
      "metadata": {
        "colab": {
          "base_uri": "https://localhost:8080/",
          "height": 376
        },
        "id": "M5pP5-IL8pJS",
        "outputId": "aa377773-0073-430b-e1f4-be52e0a63d92"
      },
      "source": [
        "import numpy as np\n",
        "import pandas as pd\n",
        "import matplotlib.pyplot as plt\n",
        "import seaborn as sb\n",
        "%matplotlib inline\n",
        "\n",
        "pokemon = pd.read_csv('/content/drive/MyDrive/Data Folder /pokemon.csv')\n",
        "print(pokemon.shape)\n",
        "pokemon.head(10)"
      ],
      "execution_count": null,
      "outputs": [
        {
          "output_type": "stream",
          "text": [
            "(807, 14)\n"
          ],
          "name": "stdout"
        },
        {
          "output_type": "execute_result",
          "data": {
            "text/html": [
              "<div>\n",
              "<style scoped>\n",
              "    .dataframe tbody tr th:only-of-type {\n",
              "        vertical-align: middle;\n",
              "    }\n",
              "\n",
              "    .dataframe tbody tr th {\n",
              "        vertical-align: top;\n",
              "    }\n",
              "\n",
              "    .dataframe thead th {\n",
              "        text-align: right;\n",
              "    }\n",
              "</style>\n",
              "<table border=\"1\" class=\"dataframe\">\n",
              "  <thead>\n",
              "    <tr style=\"text-align: right;\">\n",
              "      <th></th>\n",
              "      <th>id</th>\n",
              "      <th>species</th>\n",
              "      <th>generation_id</th>\n",
              "      <th>height</th>\n",
              "      <th>weight</th>\n",
              "      <th>base_experience</th>\n",
              "      <th>type_1</th>\n",
              "      <th>type_2</th>\n",
              "      <th>hp</th>\n",
              "      <th>attack</th>\n",
              "      <th>defense</th>\n",
              "      <th>speed</th>\n",
              "      <th>special-attack</th>\n",
              "      <th>special-defense</th>\n",
              "    </tr>\n",
              "  </thead>\n",
              "  <tbody>\n",
              "    <tr>\n",
              "      <th>0</th>\n",
              "      <td>1</td>\n",
              "      <td>bulbasaur</td>\n",
              "      <td>1</td>\n",
              "      <td>0.7</td>\n",
              "      <td>6.9</td>\n",
              "      <td>64</td>\n",
              "      <td>grass</td>\n",
              "      <td>poison</td>\n",
              "      <td>45</td>\n",
              "      <td>49</td>\n",
              "      <td>49</td>\n",
              "      <td>45</td>\n",
              "      <td>65</td>\n",
              "      <td>65</td>\n",
              "    </tr>\n",
              "    <tr>\n",
              "      <th>1</th>\n",
              "      <td>2</td>\n",
              "      <td>ivysaur</td>\n",
              "      <td>1</td>\n",
              "      <td>1.0</td>\n",
              "      <td>13.0</td>\n",
              "      <td>142</td>\n",
              "      <td>grass</td>\n",
              "      <td>poison</td>\n",
              "      <td>60</td>\n",
              "      <td>62</td>\n",
              "      <td>63</td>\n",
              "      <td>60</td>\n",
              "      <td>80</td>\n",
              "      <td>80</td>\n",
              "    </tr>\n",
              "    <tr>\n",
              "      <th>2</th>\n",
              "      <td>3</td>\n",
              "      <td>venusaur</td>\n",
              "      <td>1</td>\n",
              "      <td>2.0</td>\n",
              "      <td>100.0</td>\n",
              "      <td>236</td>\n",
              "      <td>grass</td>\n",
              "      <td>poison</td>\n",
              "      <td>80</td>\n",
              "      <td>82</td>\n",
              "      <td>83</td>\n",
              "      <td>80</td>\n",
              "      <td>100</td>\n",
              "      <td>100</td>\n",
              "    </tr>\n",
              "    <tr>\n",
              "      <th>3</th>\n",
              "      <td>4</td>\n",
              "      <td>charmander</td>\n",
              "      <td>1</td>\n",
              "      <td>0.6</td>\n",
              "      <td>8.5</td>\n",
              "      <td>62</td>\n",
              "      <td>fire</td>\n",
              "      <td>NaN</td>\n",
              "      <td>39</td>\n",
              "      <td>52</td>\n",
              "      <td>43</td>\n",
              "      <td>65</td>\n",
              "      <td>60</td>\n",
              "      <td>50</td>\n",
              "    </tr>\n",
              "    <tr>\n",
              "      <th>4</th>\n",
              "      <td>5</td>\n",
              "      <td>charmeleon</td>\n",
              "      <td>1</td>\n",
              "      <td>1.1</td>\n",
              "      <td>19.0</td>\n",
              "      <td>142</td>\n",
              "      <td>fire</td>\n",
              "      <td>NaN</td>\n",
              "      <td>58</td>\n",
              "      <td>64</td>\n",
              "      <td>58</td>\n",
              "      <td>80</td>\n",
              "      <td>80</td>\n",
              "      <td>65</td>\n",
              "    </tr>\n",
              "    <tr>\n",
              "      <th>5</th>\n",
              "      <td>6</td>\n",
              "      <td>charizard</td>\n",
              "      <td>1</td>\n",
              "      <td>1.7</td>\n",
              "      <td>90.5</td>\n",
              "      <td>240</td>\n",
              "      <td>fire</td>\n",
              "      <td>flying</td>\n",
              "      <td>78</td>\n",
              "      <td>84</td>\n",
              "      <td>78</td>\n",
              "      <td>100</td>\n",
              "      <td>109</td>\n",
              "      <td>85</td>\n",
              "    </tr>\n",
              "    <tr>\n",
              "      <th>6</th>\n",
              "      <td>7</td>\n",
              "      <td>squirtle</td>\n",
              "      <td>1</td>\n",
              "      <td>0.5</td>\n",
              "      <td>9.0</td>\n",
              "      <td>63</td>\n",
              "      <td>water</td>\n",
              "      <td>NaN</td>\n",
              "      <td>44</td>\n",
              "      <td>48</td>\n",
              "      <td>65</td>\n",
              "      <td>43</td>\n",
              "      <td>50</td>\n",
              "      <td>64</td>\n",
              "    </tr>\n",
              "    <tr>\n",
              "      <th>7</th>\n",
              "      <td>8</td>\n",
              "      <td>wartortle</td>\n",
              "      <td>1</td>\n",
              "      <td>1.0</td>\n",
              "      <td>22.5</td>\n",
              "      <td>142</td>\n",
              "      <td>water</td>\n",
              "      <td>NaN</td>\n",
              "      <td>59</td>\n",
              "      <td>63</td>\n",
              "      <td>80</td>\n",
              "      <td>58</td>\n",
              "      <td>65</td>\n",
              "      <td>80</td>\n",
              "    </tr>\n",
              "    <tr>\n",
              "      <th>8</th>\n",
              "      <td>9</td>\n",
              "      <td>blastoise</td>\n",
              "      <td>1</td>\n",
              "      <td>1.6</td>\n",
              "      <td>85.5</td>\n",
              "      <td>239</td>\n",
              "      <td>water</td>\n",
              "      <td>NaN</td>\n",
              "      <td>79</td>\n",
              "      <td>83</td>\n",
              "      <td>100</td>\n",
              "      <td>78</td>\n",
              "      <td>85</td>\n",
              "      <td>105</td>\n",
              "    </tr>\n",
              "    <tr>\n",
              "      <th>9</th>\n",
              "      <td>10</td>\n",
              "      <td>caterpie</td>\n",
              "      <td>1</td>\n",
              "      <td>0.3</td>\n",
              "      <td>2.9</td>\n",
              "      <td>39</td>\n",
              "      <td>bug</td>\n",
              "      <td>NaN</td>\n",
              "      <td>45</td>\n",
              "      <td>30</td>\n",
              "      <td>35</td>\n",
              "      <td>45</td>\n",
              "      <td>20</td>\n",
              "      <td>20</td>\n",
              "    </tr>\n",
              "  </tbody>\n",
              "</table>\n",
              "</div>"
            ],
            "text/plain": [
              "   id     species  generation_id  ...  speed  special-attack  special-defense\n",
              "0   1   bulbasaur              1  ...     45              65               65\n",
              "1   2     ivysaur              1  ...     60              80               80\n",
              "2   3    venusaur              1  ...     80             100              100\n",
              "3   4  charmander              1  ...     65              60               50\n",
              "4   5  charmeleon              1  ...     80              80               65\n",
              "5   6   charizard              1  ...    100             109               85\n",
              "6   7    squirtle              1  ...     43              50               64\n",
              "7   8   wartortle              1  ...     58              65               80\n",
              "8   9   blastoise              1  ...     78              85              105\n",
              "9  10    caterpie              1  ...     45              20               20\n",
              "\n",
              "[10 rows x 14 columns]"
            ]
          },
          "metadata": {
            "tags": []
          },
          "execution_count": 3
        }
      ]
    },
    {
      "cell_type": "markdown",
      "metadata": {
        "id": "2Pp-bJN59Vm8"
      },
      "source": [
        "# Example 1. Plot a default histogram"
      ]
    },
    {
      "cell_type": "code",
      "metadata": {
        "colab": {
          "base_uri": "https://localhost:8080/",
          "height": 333
        },
        "id": "SN7paa0L9N50",
        "outputId": "5d4afb4a-1d39-4676-b0fe-18a60f674772"
      },
      "source": [
        "plt.hist(data=pokemon , x='speed')"
      ],
      "execution_count": null,
      "outputs": [
        {
          "output_type": "execute_result",
          "data": {
            "text/plain": [
              "(array([ 31.,  93., 163., 159., 128., 115.,  81.,  26.,   6.,   5.]),\n",
              " array([  5. ,  20.5,  36. ,  51.5,  67. ,  82.5,  98. , 113.5, 129. ,\n",
              "        144.5, 160. ]),\n",
              " <a list of 10 Patch objects>)"
            ]
          },
          "metadata": {
            "tags": []
          },
          "execution_count": 4
        },
        {
          "output_type": "display_data",
          "data": {
            "image/png": "[encoded data removed]",
            "text/plain": [
              "<Figure size 432x288 with 1 Axes>"
            ]
          },
          "metadata": {
            "tags": [],
            "needs_background": "light"
          }
        }
      ]
    },
    {
      "cell_type": "markdown",
      "metadata": {
        "id": "aLPkVt5w-JkG"
      },
      "source": [
        "# Example 2. Histogram with fixed number of bins"
      ]
    },
    {
      "cell_type": "code",
      "metadata": {
        "colab": {
          "base_uri": "https://localhost:8080/",
          "height": 367
        },
        "id": "mUuXg__b9i6p",
        "outputId": "9e814e6d-ff62-4e4a-9441-d5a87bc4c494"
      },
      "source": [
        "plt.hist(data=pokemon , x='speed' ,bins=20)"
      ],
      "execution_count": null,
      "outputs": [
        {
          "output_type": "execute_result",
          "data": {
            "text/plain": [
              "(array([  6.,  25.,  21.,  72.,  66.,  97.,  53., 106.,  64.,  64.,  69.,\n",
              "         46.,  52.,  29.,  18.,   8.,   5.,   1.,   4.,   1.]),\n",
              " array([  5.  ,  12.75,  20.5 ,  28.25,  36.  ,  43.75,  51.5 ,  59.25,\n",
              "         67.  ,  74.75,  82.5 ,  90.25,  98.  , 105.75, 113.5 , 121.25,\n",
              "        129.  , 136.75, 144.5 , 152.25, 160.  ]),\n",
              " <a list of 20 Patch objects>)"
            ]
          },
          "metadata": {
            "tags": []
          },
          "execution_count": 6
        },
        {
          "output_type": "display_data",
          "data": {
            "image/png": "[encoded data removed]",
            "text/plain": [
              "<Figure size 432x288 with 1 Axes>"
            ]
          },
          "metadata": {
            "tags": [],
            "needs_background": "light"
          }
        }
      ]
    },
    {
      "cell_type": "markdown",
      "metadata": {
        "id": "F9W8Vh-x-key"
      },
      "source": [
        "# Example 3. Histogram with dynamic number of bins\n"
      ]
    },
    {
      "cell_type": "code",
      "metadata": {
        "colab": {
          "base_uri": "https://localhost:8080/",
          "height": 384
        },
        "id": "NT2BoFZp-TUm",
        "outputId": "422f42dc-fed0-4cdf-8c26-4edc576d908f"
      },
      "source": [
        "# Create bins with step-size 5\n",
        "bins = np.arange(0, pokemon['speed'].max()+5, 5)\n",
        "plt.hist(data = pokemon, x = 'speed', bins = bins)"
      ],
      "execution_count": null,
      "outputs": [
        {
          "output_type": "execute_result",
          "data": {
            "text/plain": [
              "(array([ 0.,  3.,  4., 11., 19., 18., 43., 38., 57., 46., 53., 48., 62.,\n",
              "        55., 53., 27., 45., 32., 39., 42., 36., 22., 18., 12.,  8.,  5.,\n",
              "         5.,  0.,  1.,  1.,  3.,  1.]),\n",
              " array([  0,   5,  10,  15,  20,  25,  30,  35,  40,  45,  50,  55,  60,\n",
              "         65,  70,  75,  80,  85,  90,  95, 100, 105, 110, 115, 120, 125,\n",
              "        130, 135, 140, 145, 150, 155, 160]),\n",
              " <a list of 32 Patch objects>)"
            ]
          },
          "metadata": {
            "tags": []
          },
          "execution_count": 7
        },
        {
          "output_type": "display_data",
          "data": {
            "image/png": "[encoded data removed]",
            "text/plain": [
              "<Figure size 432x288 with 1 Axes>"
            ]
          },
          "metadata": {
            "tags": [],
            "needs_background": "light"
          }
        }
      ]
    },
    {
      "cell_type": "markdown",
      "metadata": {
        "id": "lSNQZi8p-xnF"
      },
      "source": [
        "# Example 4. Plot the similar histogram with Seaborn's distplot()\n"
      ]
    },
    {
      "cell_type": "code",
      "metadata": {
        "colab": {
          "base_uri": "https://localhost:8080/",
          "height": 351
        },
        "id": "YMX8Ec3G-ohk",
        "outputId": "b9048dc8-dd09-430e-fcd8-9774ce519c29"
      },
      "source": [
        "sb.distplot(pokemon['speed'])"
      ],
      "execution_count": null,
      "outputs": [
        {
          "output_type": "stream",
          "text": [
            "/usr/local/lib/python3.7/dist-packages/seaborn/distributions.py:2557: FutureWarning: `distplot` is a deprecated function and will be removed in a future version. Please adapt your code to use either `displot` (a figure-level function with similar flexibility) or `histplot` (an axes-level function for histograms).\n",
            "  warnings.warn(msg, FutureWarning)\n"
          ],
          "name": "stderr"
        },
        {
          "output_type": "execute_result",
          "data": {
            "text/plain": [
              "<matplotlib.axes._subplots.AxesSubplot at 0x7fe2445cd690>"
            ]
          },
          "metadata": {
            "tags": []
          },
          "execution_count": 9
        },
        {
          "output_type": "display_data",
          "data": {
            "image/png": "[encoded data removed]",
            "text/plain": [
              "<Figure size 432x288 with 1 Axes>"
            ]
          },
          "metadata": {
            "tags": [],
            "needs_background": "light"
          }
        }
      ]
    },
    {
      "cell_type": "code",
      "metadata": {
        "colab": {
          "base_uri": "https://localhost:8080/",
          "height": 350
        },
        "id": "_ZfOOINH-7Y7",
        "outputId": "ff23124c-7a4b-4881-bd3b-327e06b5e73d"
      },
      "source": [
        "# Set the argument `kde=False` to remove the estimate-line representing the Gaussian kernel density estimate.\n",
        "sb.distplot(pokemon['speed'], kde=False)"
      ],
      "execution_count": null,
      "outputs": [
        {
          "output_type": "stream",
          "text": [
            "/usr/local/lib/python3.7/dist-packages/seaborn/distributions.py:2557: FutureWarning: `distplot` is a deprecated function and will be removed in a future version. Please adapt your code to use either `displot` (a figure-level function with similar flexibility) or `histplot` (an axes-level function for histograms).\n",
            "  warnings.warn(msg, FutureWarning)\n"
          ],
          "name": "stderr"
        },
        {
          "output_type": "execute_result",
          "data": {
            "text/plain": [
              "<matplotlib.axes._subplots.AxesSubplot at 0x7fe244511090>"
            ]
          },
          "metadata": {
            "tags": []
          },
          "execution_count": 10
        },
        {
          "output_type": "display_data",
          "data": {
            "image/png": "[encoded data removed]",
            "text/plain": [
              "<Figure size 432x288 with 1 Axes>"
            ]
          },
          "metadata": {
            "tags": [],
            "needs_background": "light"
          }
        }
      ]
    },
    {
      "cell_type": "markdown",
      "metadata": {
        "id": "5JSSJwYW_kNK"
      },
      "source": [
        "# Example 5. Plot two histograms side-by-side"
      ]
    },
    {
      "cell_type": "code",
      "metadata": {
        "colab": {
          "base_uri": "https://localhost:8080/",
          "height": 320
        },
        "id": "Es3E0S-R_Ogw",
        "outputId": "4877ea41-897b-4503-ddfe-14059ea5bdb1"
      },
      "source": [
        "# Resize the chart, and have two plots side-by-side\n",
        "# Set a larger figure size for subplots\n",
        "plt.figure(figsize = [20, 5]) \n",
        "\n",
        "# histogram on left, example of too-large bin size\n",
        "# 1 row, 2 cols, subplot 1\n",
        "plt.subplot(1, 2, 1) \n",
        "bins = np.arange(0, pokemon['speed'].max()+4, 4)\n",
        "plt.hist(data = pokemon, x = 'speed', bins = bins);\n",
        "\n",
        "# histogram on right, example of too-small bin size\n",
        "plt.subplot(1, 2, 2) # 1 row, 2 cols, subplot 2\n",
        "bins = np.arange(0, pokemon['speed'].max()+1/4, 1/4)\n",
        "plt.hist(data = pokemon, x = 'speed', bins = bins);"
      ],
      "execution_count": null,
      "outputs": [
        {
          "output_type": "display_data",
          "data": {
            "image/png": "[encoded data removed]",
            "text/plain": [
              "<Figure size 1440x360 with 2 Axes>"
            ]
          },
          "metadata": {
            "tags": [],
            "needs_background": "light"
          }
        }
      ]
    },
    {
      "cell_type": "code",
      "metadata": {
        "id": "vuNAPJXn_pt2"
      },
      "source": [],
      "execution_count": null,
      "outputs": []
    }
  ]
}
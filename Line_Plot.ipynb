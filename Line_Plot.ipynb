{
  "nbformat": 4,
  "nbformat_minor": 0,
  "metadata": {
    "colab": {
      "provenance": [],
      "collapsed_sections": []
    },
    "kernelspec": {
      "name": "python3",
      "display_name": "Python 3"
    },
    "language_info": {
      "name": "python"
    }
  },
  "cells": [
    {
      "cell_type": "markdown",
      "metadata": {
        "id": "58no0m2yMq3C"
      },
      "source": [
        "# Line Plots\n",
        "The **line plot** is a fairly common plot type that is used to plot the trend of one numeric variable against values of a second variable. In contrast to a scatterplot, where all data points are plotted, in a line plot, only one point is plotted for every unique x-value or bin of x-values (like a histogram). If there are multiple observations in an x-bin, then the y-value of the point plotted in the line plot will be a summary statistic (like mean or median) of the data in the bin. The plotted points are connected with a line that emphasizes the sequential or connected nature of the x-values.\n",
        "\n",
        "If the x-variable represents time, then a line plot of the data is frequently known as a time series plot. For example, we have only one observation per time period, like in stock or currency charts.\n",
        "\n",
        "We will make use of Matplotlib's errorbar() function, performing some processing on the data in order to get it into its necessary form.\n",
        "\n",
        "Let's see some examples below."
      ]
    },
    {
      "cell_type": "code",
      "metadata": {
        "id": "fvzMuoWyMnl2"
      },
      "source": [
        "# importing necessary liberaries\n",
        "import matplotlib.pyplot as plt\n",
        "import seaborn as sb\n",
        "import numpy as np\n",
        "import pandas as pd\n",
        "%matplotlib inline"
      ],
      "execution_count": null,
      "outputs": []
    },
    {
      "cell_type": "code",
      "metadata": {
        "colab": {
          "base_uri": "https://localhost:8080/"
        },
        "id": "E3ezWpqLM2K-",
        "outputId": "91a11e79-a932-460e-8153-251e2113de28"
      },
      "source": [
        "from google.colab import drive\n",
        "drive.mount('/content/drive')"
      ],
      "execution_count": null,
      "outputs": [
        {
          "output_type": "stream",
          "text": [
            "Mounted at /content/drive\n"
          ],
          "name": "stdout"
        }
      ]
    },
    {
      "cell_type": "markdown",
      "metadata": {
        "id": "tRN4-T74NI6F"
      },
      "source": [
        "# Example 1."
      ]
    },
    {
      "cell_type": "code",
      "metadata": {
        "colab": {
          "base_uri": "https://localhost:8080/",
          "height": 199
        },
        "id": "laXdk7jZNIHB",
        "outputId": "a2612f1e-7309-439d-fcd4-83bfe161617f"
      },
      "source": [
        "fuel_data = pd.read_csv('/content/drive/MyDrive/Data Folder /fuel-econ.csv')\n",
        "fuel_data.head(2)"
      ],
      "execution_count": null,
      "outputs": [
        {
          "output_type": "execute_result",
          "data": {
            "text/html": [
              "<div>\n",
              "<style scoped>\n",
              "    .dataframe tbody tr th:only-of-type {\n",
              "        vertical-align: middle;\n",
              "    }\n",
              "\n",
              "    .dataframe tbody tr th {\n",
              "        vertical-align: top;\n",
              "    }\n",
              "\n",
              "    .dataframe thead th {\n",
              "        text-align: right;\n",
              "    }\n",
              "</style>\n",
              "<table border=\"1\" class=\"dataframe\">\n",
              "  <thead>\n",
              "    <tr style=\"text-align: right;\">\n",
              "      <th></th>\n",
              "      <th>id</th>\n",
              "      <th>make</th>\n",
              "      <th>model</th>\n",
              "      <th>year</th>\n",
              "      <th>VClass</th>\n",
              "      <th>drive</th>\n",
              "      <th>trans</th>\n",
              "      <th>fuelType</th>\n",
              "      <th>cylinders</th>\n",
              "      <th>displ</th>\n",
              "      <th>pv2</th>\n",
              "      <th>pv4</th>\n",
              "      <th>city</th>\n",
              "      <th>UCity</th>\n",
              "      <th>highway</th>\n",
              "      <th>UHighway</th>\n",
              "      <th>comb</th>\n",
              "      <th>co2</th>\n",
              "      <th>feScore</th>\n",
              "      <th>ghgScore</th>\n",
              "    </tr>\n",
              "  </thead>\n",
              "  <tbody>\n",
              "    <tr>\n",
              "      <th>0</th>\n",
              "      <td>32204</td>\n",
              "      <td>Nissan</td>\n",
              "      <td>GT-R</td>\n",
              "      <td>2013</td>\n",
              "      <td>Subcompact Cars</td>\n",
              "      <td>All-Wheel Drive</td>\n",
              "      <td>Automatic (AM6)</td>\n",
              "      <td>Premium Gasoline</td>\n",
              "      <td>6</td>\n",
              "      <td>3.8</td>\n",
              "      <td>79</td>\n",
              "      <td>0</td>\n",
              "      <td>16.4596</td>\n",
              "      <td>20.2988</td>\n",
              "      <td>22.5568</td>\n",
              "      <td>30.1798</td>\n",
              "      <td>18.7389</td>\n",
              "      <td>471</td>\n",
              "      <td>4</td>\n",
              "      <td>4</td>\n",
              "    </tr>\n",
              "    <tr>\n",
              "      <th>1</th>\n",
              "      <td>32205</td>\n",
              "      <td>Volkswagen</td>\n",
              "      <td>CC</td>\n",
              "      <td>2013</td>\n",
              "      <td>Compact Cars</td>\n",
              "      <td>Front-Wheel Drive</td>\n",
              "      <td>Automatic (AM-S6)</td>\n",
              "      <td>Premium Gasoline</td>\n",
              "      <td>4</td>\n",
              "      <td>2.0</td>\n",
              "      <td>94</td>\n",
              "      <td>0</td>\n",
              "      <td>21.8706</td>\n",
              "      <td>26.9770</td>\n",
              "      <td>31.0367</td>\n",
              "      <td>42.4936</td>\n",
              "      <td>25.2227</td>\n",
              "      <td>349</td>\n",
              "      <td>6</td>\n",
              "      <td>6</td>\n",
              "    </tr>\n",
              "  </tbody>\n",
              "</table>\n",
              "</div>"
            ],
            "text/plain": [
              "      id        make model  year  ...     comb  co2 feScore ghgScore\n",
              "0  32204      Nissan  GT-R  2013  ...  18.7389  471       4        4\n",
              "1  32205  Volkswagen    CC  2013  ...  25.2227  349       6        6\n",
              "\n",
              "[2 rows x 20 columns]"
            ]
          },
          "metadata": {
            "tags": []
          },
          "execution_count": 4
        }
      ]
    },
    {
      "cell_type": "code",
      "metadata": {
        "colab": {
          "base_uri": "https://localhost:8080/",
          "height": 271
        },
        "id": "-eMUO4GCNKYq",
        "outputId": "3ed4273a-e94c-4bd2-d9a5-c6040e71fa91"
      },
      "source": [
        "plt.errorbar(data = fuel_data , x='displ' , y='comb');\n",
        "plt.xticks(rotation = 15);\n",
        "plt.ylabel('Avg. Combined Fuel Efficiency (mpg)');"
      ],
      "execution_count": null,
      "outputs": [
        {
          "output_type": "display_data",
          "data": {
            "image/png": "[encoded data removed]",
            "text/plain": [
              "<Figure size 432x288 with 1 Axes>"
            ]
          },
          "metadata": {
            "tags": [],
            "needs_background": "light"
          }
        }
      ]
    },
    {
      "cell_type": "markdown",
      "metadata": {
        "id": "R7ipnDXqOqA2"
      },
      "source": [
        "If we just blindly stick a dataframe into the function without considering its structure, we might end up with a mess like the above. The function just plots all the data points as a line, connecting values from the first row of the dataframe to the last row. In order to create the line plot as intended, we need to do additional work to summarize the data.\n",
        "\n"
      ]
    },
    {
      "cell_type": "markdown",
      "metadata": {
        "id": "mPI4fbjHOrNx"
      },
      "source": [
        "# Example 2."
      ]
    },
    {
      "cell_type": "code",
      "metadata": {
        "colab": {
          "base_uri": "https://localhost:8080/"
        },
        "id": "UkYPF8CXORO0",
        "outputId": "710c32b3-a204-4b51-cac8-96775af20137"
      },
      "source": [
        "# Set a number of bins into which the data will be grouped.\n",
        "# Set bin edges, and compute center of each bin\n",
        "bin_edges = np.arange(0.6, 7+0.2, 0.2)\n",
        "bin_centers = bin_edges[:-1] + 0.1\n",
        "\n",
        "# Cut the bin values into discrete intervals. Returns a Series object.\n",
        "displ_binned = pd.cut(fuel_data['displ'] ,bin_edges ,include_lowest=True )\n",
        "displ_binned"
      ],
      "execution_count": null,
      "outputs": [
        {
          "output_type": "execute_result",
          "data": {
            "text/plain": [
              "0       (3.6, 3.8]\n",
              "1       (1.8, 2.0]\n",
              "2       (3.4, 3.6]\n",
              "3       (3.4, 3.6]\n",
              "4       (2.2, 2.4]\n",
              "           ...    \n",
              "3924    (1.6, 1.8]\n",
              "3925    (1.8, 2.0]\n",
              "3926    (1.8, 2.0]\n",
              "3927    (3.2, 3.4]\n",
              "3928    (3.2, 3.4]\n",
              "Name: displ, Length: 3929, dtype: category\n",
              "Categories (32, interval[float64]): [(0.599, 0.8] < (0.8, 1.0] < (1.0, 1.2] < (1.2, 1.4] < ... <\n",
              "                                     (6.2, 6.4] < (6.4, 6.6] < (6.6, 6.8] < (6.8, 7.0]]"
            ]
          },
          "metadata": {
            "tags": []
          },
          "execution_count": 12
        }
      ]
    },
    {
      "cell_type": "code",
      "metadata": {
        "id": "1bt_a_VoPQKi"
      },
      "source": [
        "# For the points in each bin, we compute the mean and standard error of the mean.\n",
        "comb_mean = fuel_data['comb'].groupby(displ_binned).mean()\n",
        "comb_std  = fuel_data['comb'].groupby(displ_binned).std()\n",
        "\n",
        "# Plot The "
      ],
      "execution_count": null,
      "outputs": []
    },
    {
      "cell_type": "code",
      "metadata": {
        "colab": {
          "base_uri": "https://localhost:8080/"
        },
        "id": "M2Yutvp2QWDP",
        "outputId": "94c25da4-24d5-433c-be35-0af007fc3b46"
      },
      "source": [
        "comb_std"
      ],
      "execution_count": null,
      "outputs": [
        {
          "output_type": "execute_result",
          "data": {
            "text/plain": [
              "displ\n",
              "(0.599, 0.8]    2.648632\n",
              "(0.8, 1.0]      1.448621\n",
              "(1.0, 1.2]      2.401971\n",
              "(1.2, 1.4]      3.465692\n",
              "(1.4, 1.6]      5.059187\n",
              "(1.6, 1.8]      6.636071\n",
              "(1.8, 2.0]      4.171142\n",
              "(2.0, 2.2]      0.940396\n",
              "(2.2, 2.4]      3.600048\n",
              "(2.4, 2.6]      5.846508\n",
              "(2.6, 2.8]      0.634145\n",
              "(2.8, 3.0]      2.169551\n",
              "(3.0, 3.2]      0.274570\n",
              "(3.2, 3.4]      0.940969\n",
              "(3.4, 3.6]      2.535865\n",
              "(3.6, 3.8]      1.207384\n",
              "(3.8, 4.0]      1.543878\n",
              "(4.0, 4.2]      0.123840\n",
              "(4.2, 4.4]      1.327419\n",
              "(4.4, 4.6]      0.444323\n",
              "(4.6, 4.8]      1.731659\n",
              "(4.8, 5.0]      0.924086\n",
              "(5.0, 5.2]      0.479634\n",
              "(5.2, 5.4]           NaN\n",
              "(5.4, 5.6]      1.176742\n",
              "(5.6, 5.8]      0.564345\n",
              "(5.8, 6.0]      0.809626\n",
              "(6.0, 6.2]      1.639440\n",
              "(6.2, 6.4]      1.958629\n",
              "(6.4, 6.6]      0.626233\n",
              "(6.6, 6.8]      0.366563\n",
              "(6.8, 7.0]      0.000000\n",
              "Name: comb, dtype: float64"
            ]
          },
          "metadata": {
            "tags": []
          },
          "execution_count": 16
        }
      ]
    },
    {
      "cell_type": "code",
      "metadata": {
        "id": "PXQLnppoQYIq"
      },
      "source": [],
      "execution_count": null,
      "outputs": []
    }
  ]
}